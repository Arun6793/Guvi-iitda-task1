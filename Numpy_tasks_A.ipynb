{
  "nbformat": 4,
  "nbformat_minor": 0,
  "metadata": {
    "kernelspec": {
      "display_name": "Python 3",
      "language": "python",
      "name": "python3"
    },
    "language_info": {
      "codemirror_mode": {
        "name": "ipython",
        "version": 3
      },
      "file_extension": ".py",
      "mimetype": "text/x-python",
      "name": "python",
      "nbconvert_exporter": "python",
      "pygments_lexer": "ipython3",
      "version": "3.8.3"
    },
    "colab": {
      "name": " Numpy_tasks A.ipynb",
      "provenance": [],
      "collapsed_sections": [],
      "include_colab_link": true
    }
  },
  "cells": [
    {
      "cell_type": "markdown",
      "metadata": {
        "id": "view-in-github",
        "colab_type": "text"
      },
      "source": [
        "<a href=\"https://colab.research.google.com/github/Arun6793/Guvi-iitda-task1/blob/main/Numpy_tasks_A.ipynb\" target=\"_parent\"><img src=\"https://colab.research.google.com/assets/colab-badge.svg\" alt=\"Open In Colab\"/></a>"
      ]
    },
    {
      "cell_type": "markdown",
      "metadata": {
        "id": "NxTgIggEV6Lp"
      },
      "source": [
        "# Numpy\n",
        "\n"
      ]
    },
    {
      "cell_type": "markdown",
      "metadata": {
        "id": "hH3meEYFV6Lq"
      },
      "source": [
        "#### 1. Import the numpy package under the name `np` (★☆☆) \n",
        "(**hint**: import … as …)"
      ]
    },
    {
      "cell_type": "code",
      "metadata": {
        "collapsed": true,
        "id": "J7N3TRT4V6Lq"
      },
      "source": [
        "import numpy as np"
      ],
      "execution_count": null,
      "outputs": []
    },
    {
      "cell_type": "markdown",
      "metadata": {
        "id": "i_aRmhIjV6Lr"
      },
      "source": [
        "#### 2. Print the numpy version and the configuration (★☆☆) \n",
        "(**hint**: np.\\_\\_version\\_\\_, np.show\\_config)"
      ]
    },
    {
      "cell_type": "code",
      "metadata": {
        "id": "5nybpAXKV6Lr",
        "colab": {
          "base_uri": "https://localhost:8080/"
        },
        "outputId": "772dbf5b-61ed-4b8b-9ed6-68425a9c8d72"
      },
      "source": [
        "np.__version__\n",
        "np.show_config()"
      ],
      "execution_count": null,
      "outputs": [
        {
          "output_type": "stream",
          "name": "stdout",
          "text": [
            "blas_mkl_info:\n",
            "  NOT AVAILABLE\n",
            "blis_info:\n",
            "  NOT AVAILABLE\n",
            "openblas_info:\n",
            "    libraries = ['openblas', 'openblas']\n",
            "    library_dirs = ['/usr/local/lib']\n",
            "    language = c\n",
            "    define_macros = [('HAVE_CBLAS', None)]\n",
            "blas_opt_info:\n",
            "    libraries = ['openblas', 'openblas']\n",
            "    library_dirs = ['/usr/local/lib']\n",
            "    language = c\n",
            "    define_macros = [('HAVE_CBLAS', None)]\n",
            "lapack_mkl_info:\n",
            "  NOT AVAILABLE\n",
            "openblas_lapack_info:\n",
            "    libraries = ['openblas', 'openblas']\n",
            "    library_dirs = ['/usr/local/lib']\n",
            "    language = c\n",
            "    define_macros = [('HAVE_CBLAS', None)]\n",
            "lapack_opt_info:\n",
            "    libraries = ['openblas', 'openblas']\n",
            "    library_dirs = ['/usr/local/lib']\n",
            "    language = c\n",
            "    define_macros = [('HAVE_CBLAS', None)]\n"
          ]
        }
      ]
    },
    {
      "cell_type": "markdown",
      "metadata": {
        "id": "9KuNc5FOV6Lr"
      },
      "source": [
        "#### 3. Create a null vector of size 10 (★☆☆) \n",
        "(**hint**: np.zeros)"
      ]
    },
    {
      "cell_type": "code",
      "metadata": {
        "id": "bjT0F-NzV6Lr",
        "colab": {
          "base_uri": "https://localhost:8080/"
        },
        "outputId": "42c19b49-e252-4e9b-b5e2-8eb8aa0029db"
      },
      "source": [
        "a=np.zeros(10)\n",
        "a"
      ],
      "execution_count": null,
      "outputs": [
        {
          "output_type": "execute_result",
          "data": {
            "text/plain": [
              "array([0., 0., 0., 0., 0., 0., 0., 0., 0., 0.])"
            ]
          },
          "metadata": {},
          "execution_count": 30
        }
      ]
    },
    {
      "cell_type": "markdown",
      "metadata": {
        "id": "Z_kBYZRaV6Lr"
      },
      "source": [
        "4.  How to find the memory size of any array (★☆☆) \n",
        "(**hint**: size, itemsize)"
      ]
    },
    {
      "cell_type": "code",
      "metadata": {
        "id": "gUEPHZIwV6Ls",
        "colab": {
          "base_uri": "https://localhost:8080/"
        },
        "outputId": "da37e9fb-2d48-4e6e-e1da-4e7f5f4a4d30"
      },
      "source": [
        "a.size\n",
        "a.itemsize"
      ],
      "execution_count": null,
      "outputs": [
        {
          "output_type": "execute_result",
          "data": {
            "text/plain": [
              "8"
            ]
          },
          "metadata": {},
          "execution_count": 32
        }
      ]
    },
    {
      "cell_type": "markdown",
      "metadata": {
        "id": "beE6U34yV6Ls"
      },
      "source": [
        "#### 5.  How to get the documentation of the numpy add function from the command line? (★☆☆) \n",
        "(**hint**: np.info)"
      ]
    },
    {
      "cell_type": "code",
      "metadata": {
        "collapsed": true,
        "id": "GEyixNTtV6Ls",
        "colab": {
          "base_uri": "https://localhost:8080/"
        },
        "outputId": "21c53047-431a-4358-eee4-1312c16f4d13"
      },
      "source": [
        "np.info"
      ],
      "execution_count": null,
      "outputs": [
        {
          "output_type": "execute_result",
          "data": {
            "text/plain": [
              "<function numpy.info>"
            ]
          },
          "metadata": {},
          "execution_count": 31
        }
      ]
    },
    {
      "cell_type": "markdown",
      "metadata": {
        "id": "DKFe7izyV6Ls"
      },
      "source": [
        "#### 6.  Create a null vector of size 10 but the fifth value which is 1 (★☆☆) \n",
        "(**hint**: array\\[4\\])"
      ]
    },
    {
      "cell_type": "code",
      "metadata": {
        "id": "9xhmxVdsV6Ls",
        "colab": {
          "base_uri": "https://localhost:8080/"
        },
        "outputId": "3f8fcfed-159a-480f-9108-974205f4772d"
      },
      "source": [
        "b=np.zeros(10)\n",
        "b[4]=1\n",
        "b"
      ],
      "execution_count": null,
      "outputs": [
        {
          "output_type": "execute_result",
          "data": {
            "text/plain": [
              "array([0., 0., 0., 0., 1., 0., 0., 0., 0., 0.])"
            ]
          },
          "metadata": {},
          "execution_count": 7
        }
      ]
    },
    {
      "cell_type": "markdown",
      "metadata": {
        "id": "C9CHwBGuV6Ls"
      },
      "source": [
        "#### 7.  Create a vector with values ranging from 10 to 49 (★☆☆) \n",
        "(**hint**: np.arange)"
      ]
    },
    {
      "cell_type": "code",
      "metadata": {
        "id": "mofW7Zl6V6Ls",
        "colab": {
          "base_uri": "https://localhost:8080/"
        },
        "outputId": "60792986-88c2-4396-87be-f9afcbc1910f"
      },
      "source": [
        "c=np.arange(10,50)\n",
        "c"
      ],
      "execution_count": null,
      "outputs": [
        {
          "output_type": "execute_result",
          "data": {
            "text/plain": [
              "array([10, 11, 12, 13, 14, 15, 16, 17, 18, 19, 20, 21, 22, 23, 24, 25, 26,\n",
              "       27, 28, 29, 30, 31, 32, 33, 34, 35, 36, 37, 38, 39, 40, 41, 42, 43,\n",
              "       44, 45, 46, 47, 48, 49])"
            ]
          },
          "metadata": {},
          "execution_count": 8
        }
      ]
    },
    {
      "cell_type": "markdown",
      "metadata": {
        "id": "IIBnUnxiV6Ls"
      },
      "source": [
        "#### 8.  Reverse a vector (first element becomes last) (★☆☆) \n",
        "(**hint**: array\\[::-1\\])"
      ]
    },
    {
      "cell_type": "code",
      "metadata": {
        "id": "4QyeBZYOV6Lt",
        "colab": {
          "base_uri": "https://localhost:8080/"
        },
        "outputId": "b840e675-2f83-4420-afb2-48b972742dc5"
      },
      "source": [
        "c[::-1]"
      ],
      "execution_count": null,
      "outputs": [
        {
          "output_type": "execute_result",
          "data": {
            "text/plain": [
              "array([49, 48, 47, 46, 45, 44, 43, 42, 41, 40, 39, 38, 37, 36, 35, 34, 33,\n",
              "       32, 31, 30, 29, 28, 27, 26, 25, 24, 23, 22, 21, 20, 19, 18, 17, 16,\n",
              "       15, 14, 13, 12, 11, 10])"
            ]
          },
          "metadata": {},
          "execution_count": 9
        }
      ]
    },
    {
      "cell_type": "markdown",
      "metadata": {
        "id": "Z7mWMpAcV6Lt"
      },
      "source": [
        "#### 9.  Create a 3x3 matrix with values ranging from 0 to 8 (★☆☆) \n",
        "(**hint**: reshape)"
      ]
    },
    {
      "cell_type": "code",
      "metadata": {
        "id": "-1OxmyukV6Lt",
        "colab": {
          "base_uri": "https://localhost:8080/"
        },
        "outputId": "c45775af-0392-49c5-e2eb-5cb1627b1191"
      },
      "source": [
        "d=np.arange(0,9).reshape(3,3)\n",
        "d"
      ],
      "execution_count": null,
      "outputs": [
        {
          "output_type": "execute_result",
          "data": {
            "text/plain": [
              "array([[0, 1, 2],\n",
              "       [3, 4, 5],\n",
              "       [6, 7, 8]])"
            ]
          },
          "metadata": {},
          "execution_count": 10
        }
      ]
    },
    {
      "cell_type": "markdown",
      "metadata": {
        "id": "fgU8MJ-xV6Lt"
      },
      "source": [
        "#### 10. Find indices of non-zero elements from \\[1,2,0,0,4,0\\] (★☆☆) \n",
        "(**hint**: np.nonzero)"
      ]
    },
    {
      "cell_type": "code",
      "metadata": {
        "id": "HWmTg-RdV6Lt",
        "colab": {
          "base_uri": "https://localhost:8080/"
        },
        "outputId": "874d2ec8-be79-4a25-e0eb-6b778eb04eee"
      },
      "source": [
        "e=[1,2,0,0,4,0]\n",
        "f=np.nonzero(e)\n",
        "f"
      ],
      "execution_count": null,
      "outputs": [
        {
          "output_type": "execute_result",
          "data": {
            "text/plain": [
              "(array([0, 1, 4]),)"
            ]
          },
          "metadata": {},
          "execution_count": 11
        }
      ]
    },
    {
      "cell_type": "markdown",
      "metadata": {
        "id": "dLyM7ltjV6Lt"
      },
      "source": [
        "#### 11. Create a 3x3 identity matrix (★☆☆) \n",
        "(**hint**: np.eye)"
      ]
    },
    {
      "cell_type": "code",
      "metadata": {
        "id": "UiOVRVfiV6Lt",
        "colab": {
          "base_uri": "https://localhost:8080/"
        },
        "outputId": "b4b39616-9642-49bc-bfab-b31fbd627cc5"
      },
      "source": [
        "g=np.eye(3)\n",
        "g"
      ],
      "execution_count": null,
      "outputs": [
        {
          "output_type": "execute_result",
          "data": {
            "text/plain": [
              "array([[1., 0., 0.],\n",
              "       [0., 1., 0.],\n",
              "       [0., 0., 1.]])"
            ]
          },
          "metadata": {},
          "execution_count": 33
        }
      ]
    },
    {
      "cell_type": "markdown",
      "metadata": {
        "id": "25A3CjaQV6Lu"
      },
      "source": [
        "#### 12. Create a 3x3x3 array with random values (★☆☆) \n",
        "(**hint**: np.random.random)"
      ]
    },
    {
      "cell_type": "code",
      "metadata": {
        "collapsed": true,
        "id": "lRNJSspfV6Lu",
        "colab": {
          "base_uri": "https://localhost:8080/"
        },
        "outputId": "795febbb-594c-445e-dd98-6d01d750f3cf"
      },
      "source": [
        "h=np.random.random((3,3,3))\n",
        "h"
      ],
      "execution_count": null,
      "outputs": [
        {
          "output_type": "execute_result",
          "data": {
            "text/plain": [
              "array([[[0.68685387, 0.68816073, 0.86347683],\n",
              "        [0.86385152, 0.36505754, 0.72090404],\n",
              "        [0.8540353 , 0.86095756, 0.83392128]],\n",
              "\n",
              "       [[0.44042531, 0.81609911, 0.57085375],\n",
              "        [0.9838871 , 0.16487223, 0.14243034],\n",
              "        [0.29409456, 0.39474164, 0.02993211]],\n",
              "\n",
              "       [[0.29482346, 0.61818587, 0.70333423],\n",
              "        [0.49072025, 0.53416627, 0.31835355],\n",
              "        [0.55381673, 0.16103926, 0.13146711]]])"
            ]
          },
          "metadata": {},
          "execution_count": 34
        }
      ]
    },
    {
      "cell_type": "markdown",
      "metadata": {
        "id": "EkOxhmJuV6Lu"
      },
      "source": [
        "#### 13. Create a 10x10 array with random values and find the minimum and maximum values (★☆☆) \n",
        "(**hint**: min, max)"
      ]
    },
    {
      "cell_type": "code",
      "metadata": {
        "id": "o9f-TRelV6Lu",
        "colab": {
          "base_uri": "https://localhost:8080/"
        },
        "outputId": "64c74224-0c7f-45b2-9f21-4c5a2be32f8e"
      },
      "source": [
        "i=np.random.random((10,10))\n",
        "j=i.min(),i.max()\n",
        "j"
      ],
      "execution_count": null,
      "outputs": [
        {
          "output_type": "execute_result",
          "data": {
            "text/plain": [
              "(0.029291111119710056, 0.9952419061390743)"
            ]
          },
          "metadata": {},
          "execution_count": 14
        }
      ]
    },
    {
      "cell_type": "markdown",
      "metadata": {
        "id": "wRd7xyW_V6Lu"
      },
      "source": [
        "#### 14. Create a random vector of size 30 and find the mean value (★☆☆) \n",
        "(**hint**: mean)"
      ]
    },
    {
      "cell_type": "code",
      "metadata": {
        "id": "mHIHAHoXV6Lu",
        "colab": {
          "base_uri": "https://localhost:8080/"
        },
        "outputId": "c3d62acb-43fc-451b-87ef-314a72fef752"
      },
      "source": [
        "k=np.random.random(30)\n",
        "l=k.mean()\n",
        "l"
      ],
      "execution_count": null,
      "outputs": [
        {
          "output_type": "execute_result",
          "data": {
            "text/plain": [
              "0.5107614100277267"
            ]
          },
          "metadata": {},
          "execution_count": 15
        }
      ]
    },
    {
      "cell_type": "markdown",
      "metadata": {
        "id": "dDRRfqmdV6Lu"
      },
      "source": [
        "#### 15. Create a 2d array with 1 on the border and 0 inside (★☆☆) \n",
        "(**hint**: array\\[1:-1, 1:-1\\])"
      ]
    },
    {
      "cell_type": "code",
      "metadata": {
        "id": "7K1j_5jVV6Lu",
        "colab": {
          "base_uri": "https://localhost:8080/"
        },
        "outputId": "7e6ef862-5fa6-4fd0-da93-336664e7712d"
      },
      "source": [
        "m=np.ones((5,5))\n",
        "m[1:-1,1:-1]=0\n",
        "m"
      ],
      "execution_count": null,
      "outputs": [
        {
          "output_type": "execute_result",
          "data": {
            "text/plain": [
              "array([[1., 1., 1., 1., 1.],\n",
              "       [1., 0., 0., 0., 1.],\n",
              "       [1., 0., 0., 0., 1.],\n",
              "       [1., 0., 0., 0., 1.],\n",
              "       [1., 1., 1., 1., 1.]])"
            ]
          },
          "metadata": {},
          "execution_count": 16
        }
      ]
    },
    {
      "cell_type": "markdown",
      "metadata": {
        "id": "Sgj4DMraV6Lu"
      },
      "source": [
        "#### 16. How to add a border (filled with 0's) around an existing array? (★☆☆) \n",
        "(**hint**: np.pad)"
      ]
    },
    {
      "cell_type": "code",
      "metadata": {
        "id": "11upJ1DBV6Lu",
        "colab": {
          "base_uri": "https://localhost:8080/"
        },
        "outputId": "109a4e79-a7d4-42a3-b034-8a57fe693dea"
      },
      "source": [
        "m=np.pad(m, pad_width=1, mode='constant', constant_values=0)\n",
        "m"
      ],
      "execution_count": null,
      "outputs": [
        {
          "output_type": "execute_result",
          "data": {
            "text/plain": [
              "array([[0., 0., 0., 0., 0., 0., 0.],\n",
              "       [0., 1., 1., 1., 1., 1., 0.],\n",
              "       [0., 1., 0., 0., 0., 1., 0.],\n",
              "       [0., 1., 0., 0., 0., 1., 0.],\n",
              "       [0., 1., 0., 0., 0., 1., 0.],\n",
              "       [0., 1., 1., 1., 1., 1., 0.],\n",
              "       [0., 0., 0., 0., 0., 0., 0.]])"
            ]
          },
          "metadata": {},
          "execution_count": 17
        }
      ]
    },
    {
      "cell_type": "markdown",
      "metadata": {
        "id": "KJiiqiw0V6Lv"
      },
      "source": [
        "#### 17. What is the result of the following expression? (★☆☆) \n",
        "(**hint**: NaN = not a number, inf = infinity)"
      ]
    },
    {
      "cell_type": "markdown",
      "metadata": {
        "id": "n5sPma3iV6Lv"
      },
      "source": [
        "```python\n",
        "0 * np.nan\n",
        "np.nan == np.nan\n",
        "np.inf > np.nan\n",
        "np.nan - np.nan\n",
        "0.3 == 3 * 0.1\n",
        "```"
      ]
    },
    {
      "cell_type": "code",
      "metadata": {
        "id": "FzKvK_IxV6Lv",
        "colab": {
          "base_uri": "https://localhost:8080/"
        },
        "outputId": "eebd1992-3885-4b1c-87ec-7e70dcfb64a0"
      },
      "source": [
        "Z = np.diag(1+np.arange(4),k=-1)\n",
        "print(Z)"
      ],
      "execution_count": null,
      "outputs": [
        {
          "output_type": "stream",
          "name": "stdout",
          "text": [
            "[[0 0 0 0 0]\n",
            " [1 0 0 0 0]\n",
            " [0 2 0 0 0]\n",
            " [0 0 3 0 0]\n",
            " [0 0 0 4 0]]\n"
          ]
        }
      ]
    },
    {
      "cell_type": "markdown",
      "metadata": {
        "id": "1uEDHC__V6Lv"
      },
      "source": [
        "#### 18. Create a 5x5 matrix with values 1,2,3,4 just below the diagonal (★☆☆) \n",
        "(**hint**: np.diag)"
      ]
    },
    {
      "cell_type": "code",
      "metadata": {
        "id": "H9LQlQ_DV6Lv",
        "colab": {
          "base_uri": "https://localhost:8080/"
        },
        "outputId": "1e4ef877-e375-4182-90b0-8e86b622d602"
      },
      "source": [
        "n=np.diag([0,1,2,3,4])\n",
        "n"
      ],
      "execution_count": null,
      "outputs": [
        {
          "output_type": "execute_result",
          "data": {
            "text/plain": [
              "array([[0, 0, 0, 0, 0],\n",
              "       [0, 1, 0, 0, 0],\n",
              "       [0, 0, 2, 0, 0],\n",
              "       [0, 0, 0, 3, 0],\n",
              "       [0, 0, 0, 0, 4]])"
            ]
          },
          "metadata": {},
          "execution_count": 35
        }
      ]
    },
    {
      "cell_type": "markdown",
      "metadata": {
        "id": "cMTZArhAV6Lv"
      },
      "source": [
        "#### 19. Create a 8x8 matrix and fill it with a checkerboard pattern (★☆☆) \n",
        "\n",
        "*   List item\n",
        "*   List item\n",
        "\n",
        "\n",
        "(**hint**: array\\[::2\\])"
      ]
    },
    {
      "cell_type": "code",
      "metadata": {
        "id": "YiVvOsIIV6Lv",
        "colab": {
          "base_uri": "https://localhost:8080/"
        },
        "outputId": "116104bf-6ecc-4fce-8213-29ea257dc08a"
      },
      "source": [
        "o = np.zeros((8,8),dtype=int)\n",
        "o[1::2,::2] = 1\n",
        "o[::2,1::2] = 1\n",
        "print(o)"
      ],
      "execution_count": null,
      "outputs": [
        {
          "output_type": "stream",
          "name": "stdout",
          "text": [
            "[[0 1 0 1 0 1 0 1]\n",
            " [1 0 1 0 1 0 1 0]\n",
            " [0 1 0 1 0 1 0 1]\n",
            " [1 0 1 0 1 0 1 0]\n",
            " [0 1 0 1 0 1 0 1]\n",
            " [1 0 1 0 1 0 1 0]\n",
            " [0 1 0 1 0 1 0 1]\n",
            " [1 0 1 0 1 0 1 0]]\n"
          ]
        }
      ]
    },
    {
      "cell_type": "markdown",
      "metadata": {
        "id": "DMbsJvoIV6Lv"
      },
      "source": [
        "#### 20. Consider a (6,7,8) shape array, what is the index (x,y,z) of the 100th element? \n",
        "(**hint**: np.unravel_index)"
      ]
    },
    {
      "cell_type": "code",
      "metadata": {
        "id": "mQH0frbyV6Lv",
        "colab": {
          "base_uri": "https://localhost:8080/"
        },
        "outputId": "3fa17316-3834-4c41-b216-eda221630f45"
      },
      "source": [
        "print(np.unravel_index(99,(6,7,8)))\n"
      ],
      "execution_count": null,
      "outputs": [
        {
          "output_type": "stream",
          "name": "stdout",
          "text": [
            "(1, 5, 3)\n"
          ]
        }
      ]
    },
    {
      "cell_type": "markdown",
      "metadata": {
        "id": "3ONt4yO6V6Lv"
      },
      "source": [
        "#### 21. Create a checkerboard 8x8 matrix using the tile function (★☆☆) \n",
        "(**hint**: np.tile)"
      ]
    },
    {
      "cell_type": "code",
      "metadata": {
        "id": "MVfph8TUV6Lw",
        "colab": {
          "base_uri": "https://localhost:8080/"
        },
        "outputId": "10b37b81-27d7-46d9-bde8-8f9d6dabf5e8"
      },
      "source": [
        "p = np.tile( np.array([[0,1],[1,0]]), (4,4))\n",
        "print(p)"
      ],
      "execution_count": null,
      "outputs": [
        {
          "output_type": "stream",
          "name": "stdout",
          "text": [
            "[[0 1 0 1 0 1 0 1]\n",
            " [1 0 1 0 1 0 1 0]\n",
            " [0 1 0 1 0 1 0 1]\n",
            " [1 0 1 0 1 0 1 0]\n",
            " [0 1 0 1 0 1 0 1]\n",
            " [1 0 1 0 1 0 1 0]\n",
            " [0 1 0 1 0 1 0 1]\n",
            " [1 0 1 0 1 0 1 0]]\n"
          ]
        }
      ]
    },
    {
      "cell_type": "markdown",
      "metadata": {
        "id": "RoJD7K3wV6Lw"
      },
      "source": [
        "#### 22. Normalize a 5x5 random matrix (★☆☆) \n",
        "(**hint**: (x - min) / (max - min))"
      ]
    },
    {
      "cell_type": "code",
      "metadata": {
        "id": "CjacKsf5V6Lw",
        "colab": {
          "base_uri": "https://localhost:8080/"
        },
        "outputId": "d1890a57-605d-4561-c879-ea3767c81aa3"
      },
      "source": [
        "i = np.random.random((5,5))\n",
        "i = (i - np.mean (i)) / (np.std (i))\n",
        "print(i)"
      ],
      "execution_count": null,
      "outputs": [
        {
          "output_type": "stream",
          "name": "stdout",
          "text": [
            "[[-0.51547989  1.61222645 -1.08319418 -0.74940119  0.6212322 ]\n",
            " [-1.57879913  0.68225887 -0.20492791 -0.59064422 -1.14745386]\n",
            " [-0.9257097  -0.52651737  1.19418766 -0.42028488  1.96267907]\n",
            " [ 0.95398498  1.58805778 -0.6793384  -1.56906706  0.62069447]\n",
            " [-0.65871817  0.75310214 -0.44416329  0.87641549  0.22886014]]\n"
          ]
        }
      ]
    },
    {
      "cell_type": "markdown",
      "metadata": {
        "id": "mJDYyhjDV6Lw"
      },
      "source": [
        "#### 23. Create a custom dtype that describes a color as four unsigned bytes (RGBA) (★☆☆) \n",
        "(**hint**: np.dtype)"
      ]
    },
    {
      "cell_type": "code",
      "metadata": {
        "collapsed": true,
        "id": "P4R5_61kV6Lw"
      },
      "source": [
        "color = np.dtype([(\"r\", np.ubyte),\n",
        "                  (\"g\", np.ubyte),\n",
        "                  (\"b\", np.ubyte),\n",
        "                  (\"a\", np.ubyte)])"
      ],
      "execution_count": null,
      "outputs": []
    },
    {
      "cell_type": "markdown",
      "metadata": {
        "id": "SZEoSQg0V6Lw"
      },
      "source": [
        "#### 24. Multiply a 5x3 matrix by a 3x2 matrix (real matrix product) (★☆☆) \n",
        "(**hint**: np.dot | @)"
      ]
    },
    {
      "cell_type": "code",
      "metadata": {
        "id": "0FSA8S00V6Lw",
        "colab": {
          "base_uri": "https://localhost:8080/"
        },
        "outputId": "a9ce824d-d2c0-48f7-adee-aeb819a7d3f6"
      },
      "source": [
        "t = np.dot(np.ones((5,3)), np.ones((3,2)))\n",
        "print(t)"
      ],
      "execution_count": null,
      "outputs": [
        {
          "output_type": "stream",
          "name": "stdout",
          "text": [
            "[[3. 3.]\n",
            " [3. 3.]\n",
            " [3. 3.]\n",
            " [3. 3.]\n",
            " [3. 3.]]\n"
          ]
        }
      ]
    },
    {
      "cell_type": "markdown",
      "metadata": {
        "id": "8GY_IvsDV6Lw"
      },
      "source": [
        "#### 25. Given a 1D array, negate all elements which are between 3 and 8, in place. (★☆☆) \n",
        "(**hint**: >, <=)"
      ]
    },
    {
      "cell_type": "code",
      "metadata": {
        "id": "X8mrGr4hV6Lw",
        "colab": {
          "base_uri": "https://localhost:8080/"
        },
        "outputId": "2c754b11-de20-4a69-a583-75a0d4bb3ff8"
      },
      "source": [
        "h = np.arange(10)\n",
        "h[(3 < h) & (h < 8)] *= -1\n",
        "print(h)"
      ],
      "execution_count": null,
      "outputs": [
        {
          "output_type": "stream",
          "name": "stdout",
          "text": [
            "[ 0  1  2  3 -4 -5 -6 -7  8  9]\n"
          ]
        }
      ]
    },
    {
      "cell_type": "markdown",
      "metadata": {
        "id": "4fMVLfL7V6Lw"
      },
      "source": [
        "#### 26. What is the output of the following script? (★☆☆) \n",
        "(**hint**: np.sum)"
      ]
    },
    {
      "cell_type": "markdown",
      "metadata": {
        "id": "RYvHxU96V6Lx"
      },
      "source": [
        "```python\n",
        "# Author: Jake VanderPlas\n",
        "\n",
        "print(sum(range(5),-1))\n",
        "from numpy import *\n",
        "print(sum(range(5),-1))\n",
        "```"
      ]
    },
    {
      "cell_type": "code",
      "metadata": {
        "id": "2cf16p0RV6Lx",
        "colab": {
          "base_uri": "https://localhost:8080/"
        },
        "outputId": "4d620a47-cd3c-4a9a-fa2b-3907f0e1cc2f"
      },
      "source": [
        "print(sum(range(5),-1))\n",
        "from numpy import *\n",
        "print(sum(range(5),-1))"
      ],
      "execution_count": null,
      "outputs": [
        {
          "output_type": "stream",
          "name": "stdout",
          "text": [
            "10\n",
            "10\n"
          ]
        }
      ]
    },
    {
      "cell_type": "markdown",
      "metadata": {
        "id": "SnKn5auFV6Lx"
      },
      "source": [
        "## `**bold text**#### 27. Consider an integer vector Z, which of these expressions are legal? (★☆☆)`"
      ]
    },
    {
      "cell_type": "markdown",
      "metadata": {
        "id": "_1am9nzkV6Lx"
      },
      "source": [
        "```python\n",
        "Z**Z\n",
        "2 << Z >> 2\n",
        "Z <- Z\n",
        "1j*Z\n",
        "Z/1/1\n",
        "Z<Z>Z\n",
        "```"
      ]
    },
    {
      "cell_type": "code",
      "metadata": {
        "id": "hE9Z1S_jV6Lx",
        "colab": {
          "base_uri": "https://localhost:8080/"
        },
        "outputId": "0961251b-0b9f-409f-bb76-742adf027981"
      },
      "source": [
        "Z**Z\n",
        "2 << Z >> 2\n",
        "Z <- Z\n",
        "1j*Z"
      ],
      "execution_count": null,
      "outputs": [
        {
          "output_type": "execute_result",
          "data": {
            "text/plain": [
              "array([[0.+0.j, 0.+0.j, 0.+0.j, 0.+0.j, 0.+0.j],\n",
              "       [0.+1.j, 0.+0.j, 0.+0.j, 0.+0.j, 0.+0.j],\n",
              "       [0.+0.j, 0.+2.j, 0.+0.j, 0.+0.j, 0.+0.j],\n",
              "       [0.+0.j, 0.+0.j, 0.+3.j, 0.+0.j, 0.+0.j],\n",
              "       [0.+0.j, 0.+0.j, 0.+0.j, 0.+4.j, 0.+0.j]])"
            ]
          },
          "metadata": {},
          "execution_count": 44
        }
      ]
    },
    {
      "cell_type": "markdown",
      "metadata": {
        "id": "batebTAZV6Lx"
      },
      "source": [
        "#### 28. What are the result of the following expressions?"
      ]
    },
    {
      "cell_type": "markdown",
      "metadata": {
        "id": "RF5gkZmQV6Lx"
      },
      "source": [
        "```python\n",
        "np.array(0) / np.array(0)\n",
        "np.array(0) // np.array(0)\n",
        "np.array([np.nan]).astype(int).astype(float)\n",
        "```"
      ]
    },
    {
      "cell_type": "code",
      "metadata": {
        "id": "1bgWbjJMV6Lx",
        "colab": {
          "base_uri": "https://localhost:8080/"
        },
        "outputId": "de1ae6ac-19a8-4a6d-dae7-ba8b3b666903"
      },
      "source": [
        "print(np.array(0) / np.array(0))\n",
        "print(np.array(0) // np.array(0))\n",
        "print(np.array([np.nan]).astype(int).astype(float))"
      ],
      "execution_count": null,
      "outputs": [
        {
          "output_type": "stream",
          "name": "stdout",
          "text": [
            "nan\n",
            "0\n",
            "[-9.22337204e+18]\n"
          ]
        },
        {
          "output_type": "stream",
          "name": "stderr",
          "text": [
            "/usr/local/lib/python3.7/dist-packages/ipykernel_launcher.py:1: RuntimeWarning: invalid value encountered in true_divide\n",
            "  \"\"\"Entry point for launching an IPython kernel.\n",
            "/usr/local/lib/python3.7/dist-packages/ipykernel_launcher.py:2: RuntimeWarning: divide by zero encountered in floor_divide\n",
            "  \n"
          ]
        }
      ]
    },
    {
      "cell_type": "markdown",
      "metadata": {
        "id": "NuPdk4LGV6Lx"
      },
      "source": [
        "#### 29. How to round away from zero a float array ? (★☆☆) \n",
        "(**hint**: np.uniform, np.copysign, np.ceil, np.abs)"
      ]
    },
    {
      "cell_type": "code",
      "metadata": {
        "id": "xoOB2W-cV6Ly",
        "colab": {
          "base_uri": "https://localhost:8080/"
        },
        "outputId": "f7b68f21-ccae-4dcb-faf0-60caaa83f713"
      },
      "source": [
        "m = np.random.uniform(-10,+10,10)\n",
        "print(np.copysign(np.ceil(np.abs(m)),m))"
      ],
      "execution_count": null,
      "outputs": [
        {
          "output_type": "stream",
          "text": [
            "[ -9. -10.  -4. -10.  -9.  -4.  -1.   3.   9.   1.]\n"
          ],
          "name": "stdout"
        }
      ]
    },
    {
      "cell_type": "markdown",
      "metadata": {
        "id": "IVTnaw6QV6Ly"
      },
      "source": [
        "#### 30. How to find common values between two arrays? (★☆☆) \n",
        "(**hint**: np.intersect1d)"
      ]
    },
    {
      "cell_type": "code",
      "metadata": {
        "id": "aof4oj1VV6Ly",
        "colab": {
          "base_uri": "https://localhost:8080/"
        },
        "outputId": "96b55c57-b70f-4192-b87a-1ebe9c20e040"
      },
      "source": [
        "j = np.random.randint(0,10,10)\n",
        "k = np.random.randint(0,10,10)\n",
        "print(np.intersect1d(j,k))"
      ],
      "execution_count": null,
      "outputs": [
        {
          "output_type": "stream",
          "name": "stdout",
          "text": [
            "[0 2 3 4 5]\n"
          ]
        }
      ]
    },
    {
      "cell_type": "markdown",
      "metadata": {
        "id": "3n28Q9fGV6Ly"
      },
      "source": [
        "#### 31. How to ignore all numpy warnings (not recommended)? (★☆☆) \n",
        "(**hint**: np.seterr, np.errstate)"
      ]
    },
    {
      "cell_type": "code",
      "metadata": {
        "id": "kuDfBL0LV6Ly",
        "colab": {
          "base_uri": "https://localhost:8080/",
          "height": 126
        },
        "outputId": "d03e4ef7-c010-4c93-95e6-67c9cfe72952"
      },
      "source": [
        ""
      ],
      "execution_count": null,
      "outputs": [
        {
          "output_type": "error",
          "ename": "IndentationError",
          "evalue": "ignored",
          "traceback": [
            "\u001b[0;36m  File \u001b[0;32m\"<ipython-input-48-2ce5249045cf>\"\u001b[0;36m, line \u001b[0;32m5\u001b[0m\n\u001b[0;31m    Z = np.ones(1) / 0\u001b[0m\n\u001b[0m    ^\u001b[0m\n\u001b[0;31mIndentationError\u001b[0m\u001b[0;31m:\u001b[0m expected an indented block\n"
          ]
        }
      ]
    },
    {
      "cell_type": "markdown",
      "metadata": {
        "id": "z8lHXiWiV6Ly"
      },
      "source": [
        "#### 32. Is the following expressions true? (★☆☆) \n",
        "(**hint**: imaginary number)"
      ]
    },
    {
      "cell_type": "markdown",
      "metadata": {
        "id": "XBQad4o4V6Ly"
      },
      "source": [
        "```python\n",
        "np.sqrt(-1) == np.emath.sqrt(-1)\n",
        "```"
      ]
    },
    {
      "cell_type": "code",
      "metadata": {
        "id": "HmFlMIeBV6Ly",
        "colab": {
          "base_uri": "https://localhost:8080/"
        },
        "outputId": "95b3e5d3-1618-40ee-9171-e690757b65c1"
      },
      "source": [
        "np.sqrt(-1) == np.emath.sqrt(-1)\n"
      ],
      "execution_count": null,
      "outputs": [
        {
          "output_type": "stream",
          "name": "stderr",
          "text": [
            "/usr/local/lib/python3.7/dist-packages/ipykernel_launcher.py:1: RuntimeWarning: invalid value encountered in sqrt\n",
            "  \"\"\"Entry point for launching an IPython kernel.\n"
          ]
        },
        {
          "output_type": "execute_result",
          "data": {
            "text/plain": [
              "False"
            ]
          },
          "metadata": {},
          "execution_count": 49
        }
      ]
    },
    {
      "cell_type": "markdown",
      "metadata": {
        "id": "DWOitcz7V6Ly"
      },
      "source": [
        "#### 33. How to get the dates of yesterday, today and tomorrow? (★☆☆) \n",
        "(**hint**: np.datetime64, np.timedelta64)"
      ]
    },
    {
      "cell_type": "code",
      "metadata": {
        "collapsed": true,
        "id": "Cd2RWhprV6Ly"
      },
      "source": [
        "yesterday = np.datetime64('today') - np.timedelta64(1)\n",
        "today     = np.datetime64('today')\n",
        "tomorrow  = np.datetime64('today') + np.timedelta64(1)"
      ],
      "execution_count": null,
      "outputs": []
    },
    {
      "cell_type": "markdown",
      "metadata": {
        "id": "T2n2oE-GV6Ly"
      },
      "source": [
        "#### 34. How to get all the dates corresponding to the month of July 2016? (★★☆) \n",
        "(**hint**: np.arange(dtype=datetime64\\['D'\\]))"
      ]
    },
    {
      "cell_type": "code",
      "metadata": {
        "id": "nVSba98mV6Ly",
        "colab": {
          "base_uri": "https://localhost:8080/"
        },
        "outputId": "3ab9b4e1-ea79-4cde-a0a7-15ae1f693d6c"
      },
      "source": [
        "am= np.arange('2016-07', '2016-08', dtype='datetime64[D]')\n",
        "print(am)"
      ],
      "execution_count": null,
      "outputs": [
        {
          "output_type": "stream",
          "name": "stdout",
          "text": [
            "['2016-07-01' '2016-07-02' '2016-07-03' '2016-07-04' '2016-07-05'\n",
            " '2016-07-06' '2016-07-07' '2016-07-08' '2016-07-09' '2016-07-10'\n",
            " '2016-07-11' '2016-07-12' '2016-07-13' '2016-07-14' '2016-07-15'\n",
            " '2016-07-16' '2016-07-17' '2016-07-18' '2016-07-19' '2016-07-20'\n",
            " '2016-07-21' '2016-07-22' '2016-07-23' '2016-07-24' '2016-07-25'\n",
            " '2016-07-26' '2016-07-27' '2016-07-28' '2016-07-29' '2016-07-30'\n",
            " '2016-07-31']\n"
          ]
        }
      ]
    },
    {
      "cell_type": "markdown",
      "metadata": {
        "id": "YmGbz9J9V6Ly"
      },
      "source": [
        "#### 35. How to compute ((A+B)\\*(-A/2)) in place (without copy)? (★★☆) \n",
        "(**hint**: np.add(out=), np.negative(out=), np.multiply(out=), np.divide(out=))"
      ]
    },
    {
      "cell_type": "code",
      "metadata": {
        "id": "rssrhcSWV6Lz",
        "colab": {
          "base_uri": "https://localhost:8080/"
        },
        "outputId": "96b800de-a766-4055-ed43-f1df2f6f059e"
      },
      "source": [
        "A = np.ones(3)*1\n",
        "B = np.ones(3)*2\n",
        "np.add(A,B,out=B)\n",
        "np.divide(A,2,out=A)\n",
        "np.negative(A,out=A)\n",
        "np.multiply(A,B,out=A)"
      ],
      "execution_count": null,
      "outputs": [
        {
          "output_type": "execute_result",
          "data": {
            "text/plain": [
              "array([-1.5, -1.5, -1.5])"
            ]
          },
          "metadata": {},
          "execution_count": 52
        }
      ]
    },
    {
      "cell_type": "markdown",
      "metadata": {
        "id": "AjFBPcWGV6Lz"
      },
      "source": [
        "#### 36. Extract the integer part of a random array using 5 different methods (★★☆) \n",
        "(**hint**: %, np.floor, np.ceil, astype, np.trunc)"
      ]
    },
    {
      "cell_type": "code",
      "metadata": {
        "id": "QZysd3r7V6Lz",
        "colab": {
          "base_uri": "https://localhost:8080/"
        },
        "outputId": "f9e41b59-9b33-49a0-9fed-c2a399b3e202"
      },
      "source": [
        "Z = np.random.uniform(0,10,10)\n",
        "\n",
        "print(Z - Z%1)\n",
        "print(Z // 1)\n",
        "print(np.floor(Z))\n",
        "print(Z.astype(int))\n",
        "print(np.trunc(Z))"
      ],
      "execution_count": null,
      "outputs": [
        {
          "output_type": "stream",
          "name": "stdout",
          "text": [
            "[9. 6. 0. 0. 4. 2. 4. 0. 5. 9.]\n",
            "[9. 6. 0. 0. 4. 2. 4. 0. 5. 9.]\n",
            "[9. 6. 0. 0. 4. 2. 4. 0. 5. 9.]\n",
            "[9 6 0 0 4 2 4 0 5 9]\n",
            "[9. 6. 0. 0. 4. 2. 4. 0. 5. 9.]\n"
          ]
        }
      ]
    },
    {
      "cell_type": "markdown",
      "metadata": {
        "id": "smBMdYQOV6Lz"
      },
      "source": [
        "#### 37. Create a 5x5 matrix with row values ranging from 0 to 4 (★★☆) \n",
        "(**hint**: np.arange)"
      ]
    },
    {
      "cell_type": "code",
      "metadata": {
        "id": "ZKR47auZV6Lz",
        "colab": {
          "base_uri": "https://localhost:8080/"
        },
        "outputId": "ec506761-03f2-47ab-a14e-82236d3e2bb0"
      },
      "source": [
        "ak = np.zeros((5,5))\n",
        "ak += np.arange(5)\n",
        "ak\n"
      ],
      "execution_count": null,
      "outputs": [
        {
          "output_type": "execute_result",
          "data": {
            "text/plain": [
              "array([[0., 1., 2., 3., 4.],\n",
              "       [0., 1., 2., 3., 4.],\n",
              "       [0., 1., 2., 3., 4.],\n",
              "       [0., 1., 2., 3., 4.],\n",
              "       [0., 1., 2., 3., 4.]])"
            ]
          },
          "metadata": {},
          "execution_count": 54
        }
      ]
    },
    {
      "cell_type": "markdown",
      "metadata": {
        "id": "-pYELo45V6Lz"
      },
      "source": [
        "#### 38. Consider a generator function that generates 10 integers and use it to build an array (★☆☆) \n",
        "(**hint**: np.fromiter)"
      ]
    },
    {
      "cell_type": "code",
      "metadata": {
        "id": "0sd3Cl52V6Lz",
        "colab": {
          "base_uri": "https://localhost:8080/"
        },
        "outputId": "b355f060-788c-41cb-9815-9dc89f5a42fb"
      },
      "source": [
        "def generate():\n",
        "    for x in range(10):\n",
        "        yield x\n",
        "Z = np.fromiter(generate(),dtype=float,count=-1)\n",
        "Z"
      ],
      "execution_count": null,
      "outputs": [
        {
          "output_type": "execute_result",
          "data": {
            "text/plain": [
              "array([0., 1., 2., 3., 4., 5., 6., 7., 8., 9.])"
            ]
          },
          "metadata": {},
          "execution_count": 55
        }
      ]
    },
    {
      "cell_type": "markdown",
      "metadata": {
        "id": "XeSM4F4oV6Lz"
      },
      "source": [
        "#### 39. Create a vector of size 10 with values ranging from 0 to 1, both excluded (★★☆) \n",
        "(**hint**: np.linspace)"
      ]
    },
    {
      "cell_type": "code",
      "metadata": {
        "id": "Z_X1t_UXV6Lz",
        "colab": {
          "base_uri": "https://localhost:8080/"
        },
        "outputId": "dccbee05-eb8b-447a-8878-3f1d6eef3404"
      },
      "source": [
        "Z = np.linspace(0,1,11,endpoint=False)[1:]\n",
        "Z"
      ],
      "execution_count": null,
      "outputs": [
        {
          "output_type": "execute_result",
          "data": {
            "text/plain": [
              "array([0.09090909, 0.18181818, 0.27272727, 0.36363636, 0.45454545,\n",
              "       0.54545455, 0.63636364, 0.72727273, 0.81818182, 0.90909091])"
            ]
          },
          "metadata": {},
          "execution_count": 56
        }
      ]
    },
    {
      "cell_type": "markdown",
      "metadata": {
        "id": "RUDNQXxBV6L0"
      },
      "source": [
        "#### 40. Create a random vector of size 10 and sort it (★★☆) \n",
        "(**hint**: sort)"
      ]
    },
    {
      "cell_type": "code",
      "metadata": {
        "id": "K7KKS6gfV6L0",
        "colab": {
          "base_uri": "https://localhost:8080/"
        },
        "outputId": "403e0b02-3b12-4246-95bb-48eb3242bd3a"
      },
      "source": [
        "p = np.random.random(10)\n",
        "p.sort()\n",
        "p"
      ],
      "execution_count": null,
      "outputs": [
        {
          "output_type": "execute_result",
          "data": {
            "text/plain": [
              "array([0.09269333, 0.12967202, 0.1853784 , 0.24578696, 0.27504995,\n",
              "       0.30274405, 0.43055622, 0.5132005 , 0.58140139, 0.81451106])"
            ]
          },
          "metadata": {},
          "execution_count": 57
        }
      ]
    },
    {
      "cell_type": "markdown",
      "metadata": {
        "id": "Pzt8kIiBV6L0"
      },
      "source": [
        "#### 41. How to sum a small array faster than np.sum? (★★☆) \n",
        "(**hint**: np.add.reduce)"
      ]
    },
    {
      "cell_type": "code",
      "metadata": {
        "id": "5YbF0LVWV6L0",
        "colab": {
          "base_uri": "https://localhost:8080/"
        },
        "outputId": "8f015d3d-89d2-47b1-b705-80286a1c471e"
      },
      "source": [
        "t = np.arange(10)\n",
        "np.add.reduce(t)"
      ],
      "execution_count": null,
      "outputs": [
        {
          "output_type": "execute_result",
          "data": {
            "text/plain": [
              "45"
            ]
          },
          "metadata": {},
          "execution_count": 58
        }
      ]
    },
    {
      "cell_type": "markdown",
      "metadata": {
        "id": "ZiG-ws3bV6L0"
      },
      "source": [
        "#### 42. Consider two random array A and B, check if they are equal (★★☆) \n",
        "(**hint**: np.allclose, np.array\\_equal)"
      ]
    },
    {
      "cell_type": "code",
      "metadata": {
        "id": "wagWrmFzV6L0",
        "colab": {
          "base_uri": "https://localhost:8080/"
        },
        "outputId": "d3beacbe-4793-4046-9b05-899bff3bbd85"
      },
      "source": [
        "A = np.array([5,2,4,6,4,5,5])\n",
        "B = np.array([5,2,9,7,6,4,6])\n",
        "equal = np.array_equal(A,B)\n",
        "print(equal)"
      ],
      "execution_count": null,
      "outputs": [
        {
          "output_type": "stream",
          "name": "stdout",
          "text": [
            "False\n"
          ]
        }
      ]
    },
    {
      "cell_type": "markdown",
      "metadata": {
        "id": "1qkYf0E7V6L0"
      },
      "source": [
        "#### 43. Make an array immutable (read-only) (★★☆) \n",
        "(**hint**: flags.writeable)"
      ]
    },
    {
      "cell_type": "code",
      "metadata": {
        "id": "-AtP-IItV6L0",
        "colab": {
          "base_uri": "https://localhost:8080/",
          "height": 191
        },
        "outputId": "ede859d2-4543-4e0a-e653-0094faff5b55"
      },
      "source": [
        ""
      ],
      "execution_count": null,
      "outputs": [
        {
          "output_type": "error",
          "ename": "ValueError",
          "evalue": "ignored",
          "traceback": [
            "\u001b[0;31m---------------------------------------------------------------------------\u001b[0m",
            "\u001b[0;31mValueError\u001b[0m                                Traceback (most recent call last)",
            "\u001b[0;32m<ipython-input-64-1cef3eb61709>\u001b[0m in \u001b[0;36m<module>\u001b[0;34m()\u001b[0m\n\u001b[1;32m      1\u001b[0m \u001b[0mZ\u001b[0m \u001b[0;34m=\u001b[0m \u001b[0mnp\u001b[0m\u001b[0;34m.\u001b[0m\u001b[0mzeros\u001b[0m\u001b[0;34m(\u001b[0m\u001b[0;36m10\u001b[0m\u001b[0;34m)\u001b[0m\u001b[0;34m\u001b[0m\u001b[0;34m\u001b[0m\u001b[0m\n\u001b[1;32m      2\u001b[0m \u001b[0mZ\u001b[0m\u001b[0;34m.\u001b[0m\u001b[0mflags\u001b[0m\u001b[0;34m.\u001b[0m\u001b[0mwriteable\u001b[0m \u001b[0;34m=\u001b[0m \u001b[0;32mFalse\u001b[0m\u001b[0;34m\u001b[0m\u001b[0;34m\u001b[0m\u001b[0m\n\u001b[0;32m----> 3\u001b[0;31m \u001b[0mZ\u001b[0m \u001b[0;34m[\u001b[0m\u001b[0;36m0\u001b[0m\u001b[0;34m]\u001b[0m \u001b[0;34m=\u001b[0m \u001b[0;36m1\u001b[0m\u001b[0;34m\u001b[0m\u001b[0;34m\u001b[0m\u001b[0m\n\u001b[0m",
            "\u001b[0;31mValueError\u001b[0m: assignment destination is read-only"
          ]
        }
      ]
    },
    {
      "cell_type": "markdown",
      "metadata": {
        "id": "bgTc184gV6L0"
      },
      "source": [
        "#### 44. Consider a random 10x2 matrix representing cartesian coordinates, convert them to polar coordinates (★★☆) \n",
        "(**hint**: np.sqrt, np.arctan2)"
      ]
    },
    {
      "cell_type": "code",
      "metadata": {
        "id": "QCbO3krFV6L0",
        "colab": {
          "base_uri": "https://localhost:8080/"
        },
        "outputId": "af037939-7518-4d00-bc87-3763ed1f56ee"
      },
      "source": [
        "Z = np.random.random ((10,2))\n",
        "X, Y = Z [:, 0], Z [:, 1]\n",
        "R = np.sqrt(X**2+Y**2)\n",
        "T = np.arctan2(Y,X)\n",
        "print(R)\n",
        "print(T)"
      ],
      "execution_count": null,
      "outputs": [
        {
          "output_type": "stream",
          "name": "stdout",
          "text": [
            "[0.77672648 0.71493652 0.40729076 0.80548244 0.84299311 0.42699903\n",
            " 0.49819873 1.04975459 0.73335258 0.29150421]\n",
            "[0.7726086  0.66636042 0.37744219 1.43016223 1.45668316 0.7624775\n",
            " 0.44431729 1.13179879 1.14525328 0.08325837]\n"
          ]
        }
      ]
    },
    {
      "cell_type": "markdown",
      "metadata": {
        "id": "gunjtFmrV6L0"
      },
      "source": [
        "#### 45. Create random vector of size 10 and replace the maximum value by 0 (★★☆) \n",
        "(**hint**: argmax)"
      ]
    },
    {
      "cell_type": "code",
      "metadata": {
        "id": "1mjlJswDV6L0",
        "colab": {
          "base_uri": "https://localhost:8080/"
        },
        "outputId": "e13b4574-8867-4f73-a021-1b7f07de76cb"
      },
      "source": [
        "z = np.arange(10)\n",
        "max(z)\n",
        "print(z.argmax())\n",
        "z[9] = 0\n",
        "print(z)"
      ],
      "execution_count": null,
      "outputs": [
        {
          "output_type": "stream",
          "name": "stdout",
          "text": [
            "9\n",
            "[0 1 2 3 4 5 6 7 8 0]\n"
          ]
        }
      ]
    },
    {
      "cell_type": "markdown",
      "metadata": {
        "id": "a_XgozkgV6L1"
      },
      "source": [
        "#### 46. Create a structured array with `x` and `y` coordinates covering the \\[0,1\\]x\\[0,1\\] area (★★☆) \n",
        "(**hint**: np.meshgrid)"
      ]
    },
    {
      "cell_type": "code",
      "metadata": {
        "id": "Pr7UPGUaV6L1",
        "colab": {
          "base_uri": "https://localhost:8080/"
        },
        "outputId": "b6235db9-80ef-461f-b9f0-60b7d0bfbb63"
      },
      "source": [
        "Z = np.zeros((5,5), [('x',float),('y',float)])\n",
        "print(Z)"
      ],
      "execution_count": null,
      "outputs": [
        {
          "output_type": "stream",
          "name": "stdout",
          "text": [
            "[[(0., 0.) (0., 0.) (0., 0.) (0., 0.) (0., 0.)]\n",
            " [(0., 0.) (0., 0.) (0., 0.) (0., 0.) (0., 0.)]\n",
            " [(0., 0.) (0., 0.) (0., 0.) (0., 0.) (0., 0.)]\n",
            " [(0., 0.) (0., 0.) (0., 0.) (0., 0.) (0., 0.)]\n",
            " [(0., 0.) (0., 0.) (0., 0.) (0., 0.) (0., 0.)]]\n"
          ]
        }
      ]
    },
    {
      "cell_type": "markdown",
      "metadata": {
        "id": "rTBNypaKV6L1"
      },
      "source": [
        "####  47. Given two arrays, X and Y, construct the Cauchy matrix C (Cij =1/(xi - yj)) \n",
        "(**hint**: np.subtract.outer)"
      ]
    },
    {
      "cell_type": "code",
      "metadata": {
        "id": "6Rrs27RwV6L1",
        "colab": {
          "base_uri": "https://localhost:8080/"
        },
        "outputId": "3646d752-931d-4731-97e3-7edc455e1b3c"
      },
      "source": [
        "X = np.arange(8)\n",
        "Y = X + 0.5\n",
        "C = 1.0 / np.subtract.outer(X, Y)\n",
        "print (np.linalg.det (C))"
      ],
      "execution_count": null,
      "outputs": [
        {
          "output_type": "stream",
          "name": "stdout",
          "text": [
            "3638.1636371179666\n"
          ]
        }
      ]
    },
    {
      "cell_type": "markdown",
      "metadata": {
        "id": "sPUK7X7TV6L1"
      },
      "source": [
        "#### 48. Print the minimum and maximum representable value for each numpy scalar type (★★☆) \n",
        "(**hint**: np.iinfo, np.finfo, eps)"
      ]
    },
    {
      "cell_type": "code",
      "metadata": {
        "id": "Y4nxdDB5V6L1",
        "colab": {
          "base_uri": "https://localhost:8080/"
        },
        "outputId": "846fd71a-d132-402b-acba-3403ee0d8fe0"
      },
      "source": [
        "for dtype in [np.int8, np.int32, np.int64]:\n",
        "   print(np.iinfo(dtype).min)\n",
        "   print(np.iinfo(dtype).max)\n",
        "for dtype in [np.float32, np.float64]:\n",
        "   print(np.finfo(dtype).min)\n",
        "   print(np.finfo(dtype).max)\n",
        "   print(np.finfo(dtype).eps)"
      ],
      "execution_count": null,
      "outputs": [
        {
          "output_type": "stream",
          "name": "stdout",
          "text": [
            "-128\n",
            "127\n",
            "-2147483648\n",
            "2147483647\n",
            "-9223372036854775808\n",
            "9223372036854775807\n",
            "-3.4028235e+38\n",
            "3.4028235e+38\n",
            "1.1920929e-07\n",
            "-1.7976931348623157e+308\n",
            "1.7976931348623157e+308\n",
            "2.220446049250313e-16\n"
          ]
        }
      ]
    },
    {
      "cell_type": "markdown",
      "metadata": {
        "id": "8Sz7vYt-V6L1"
      },
      "source": [
        "#### 49. How to print all the values of an array? (★★☆) \n",
        "(**hint**: np.set\\_printoptions)"
      ]
    },
    {
      "cell_type": "code",
      "metadata": {
        "id": "mIxmv2MTV6L1",
        "colab": {
          "base_uri": "https://localhost:8080/",
          "height": 328
        },
        "outputId": "dfb6c8b1-b295-48e6-9dbd-e8b6d6da3175"
      },
      "source": [
        ""
      ],
      "execution_count": null,
      "outputs": [
        {
          "output_type": "error",
          "ename": "ValueError",
          "evalue": "ignored",
          "traceback": [
            "\u001b[0;31m---------------------------------------------------------------------------\u001b[0m",
            "\u001b[0;31mValueError\u001b[0m                                Traceback (most recent call last)",
            "\u001b[0;32m<ipython-input-73-46dfc85844e5>\u001b[0m in \u001b[0;36m<module>\u001b[0;34m()\u001b[0m\n\u001b[0;32m----> 1\u001b[0;31m \u001b[0mnp\u001b[0m\u001b[0;34m.\u001b[0m\u001b[0mset_printoptions\u001b[0m\u001b[0;34m(\u001b[0m\u001b[0mthreshold\u001b[0m \u001b[0;34m=\u001b[0m \u001b[0mnp\u001b[0m\u001b[0;34m.\u001b[0m\u001b[0mnan\u001b[0m\u001b[0;34m)\u001b[0m\u001b[0;34m\u001b[0m\u001b[0;34m\u001b[0m\u001b[0m\n\u001b[0m\u001b[1;32m      2\u001b[0m \u001b[0mZ\u001b[0m\u001b[0;34m=\u001b[0m\u001b[0mnp\u001b[0m\u001b[0;34m.\u001b[0m\u001b[0mzeros\u001b[0m\u001b[0;34m(\u001b[0m\u001b[0;34m(\u001b[0m\u001b[0;36m16\u001b[0m\u001b[0;34m,\u001b[0m\u001b[0;36m16\u001b[0m\u001b[0;34m)\u001b[0m\u001b[0;34m)\u001b[0m\u001b[0;34m\u001b[0m\u001b[0;34m\u001b[0m\u001b[0m\n\u001b[1;32m      3\u001b[0m \u001b[0mprint\u001b[0m\u001b[0;34m(\u001b[0m\u001b[0mZ\u001b[0m\u001b[0;34m)\u001b[0m\u001b[0;34m\u001b[0m\u001b[0;34m\u001b[0m\u001b[0m\n",
            "\u001b[0;32m/usr/local/lib/python3.7/dist-packages/numpy/core/arrayprint.py\u001b[0m in \u001b[0;36mset_printoptions\u001b[0;34m(precision, threshold, edgeitems, linewidth, suppress, nanstr, infstr, formatter, sign, floatmode, legacy)\u001b[0m\n\u001b[1;32m    243\u001b[0m     opt = _make_options_dict(precision, threshold, edgeitems, linewidth,\n\u001b[1;32m    244\u001b[0m                              \u001b[0msuppress\u001b[0m\u001b[0;34m,\u001b[0m \u001b[0mnanstr\u001b[0m\u001b[0;34m,\u001b[0m \u001b[0minfstr\u001b[0m\u001b[0;34m,\u001b[0m \u001b[0msign\u001b[0m\u001b[0;34m,\u001b[0m \u001b[0mformatter\u001b[0m\u001b[0;34m,\u001b[0m\u001b[0;34m\u001b[0m\u001b[0;34m\u001b[0m\u001b[0m\n\u001b[0;32m--> 245\u001b[0;31m                              floatmode, legacy)\n\u001b[0m\u001b[1;32m    246\u001b[0m     \u001b[0;31m# formatter is always reset\u001b[0m\u001b[0;34m\u001b[0m\u001b[0;34m\u001b[0m\u001b[0;34m\u001b[0m\u001b[0m\n\u001b[1;32m    247\u001b[0m     \u001b[0mopt\u001b[0m\u001b[0;34m[\u001b[0m\u001b[0;34m'formatter'\u001b[0m\u001b[0;34m]\u001b[0m \u001b[0;34m=\u001b[0m \u001b[0mformatter\u001b[0m\u001b[0;34m\u001b[0m\u001b[0;34m\u001b[0m\u001b[0m\n",
            "\u001b[0;32m/usr/local/lib/python3.7/dist-packages/numpy/core/arrayprint.py\u001b[0m in \u001b[0;36m_make_options_dict\u001b[0;34m(precision, threshold, edgeitems, linewidth, suppress, nanstr, infstr, sign, formatter, floatmode, legacy)\u001b[0m\n\u001b[1;32m     84\u001b[0m             \u001b[0;32mraise\u001b[0m \u001b[0mTypeError\u001b[0m\u001b[0;34m(\u001b[0m\u001b[0;34m\"threshold must be numeric\"\u001b[0m\u001b[0;34m)\u001b[0m\u001b[0;34m\u001b[0m\u001b[0;34m\u001b[0m\u001b[0m\n\u001b[1;32m     85\u001b[0m         \u001b[0;32mif\u001b[0m \u001b[0mnp\u001b[0m\u001b[0;34m.\u001b[0m\u001b[0misnan\u001b[0m\u001b[0;34m(\u001b[0m\u001b[0mthreshold\u001b[0m\u001b[0;34m)\u001b[0m\u001b[0;34m:\u001b[0m\u001b[0;34m\u001b[0m\u001b[0;34m\u001b[0m\u001b[0m\n\u001b[0;32m---> 86\u001b[0;31m             raise ValueError(\"threshold must be non-NAN, try \"\n\u001b[0m\u001b[1;32m     87\u001b[0m                              \"sys.maxsize for untruncated representation\")\n\u001b[1;32m     88\u001b[0m     \u001b[0;32mreturn\u001b[0m \u001b[0moptions\u001b[0m\u001b[0;34m\u001b[0m\u001b[0;34m\u001b[0m\u001b[0m\n",
            "\u001b[0;31mValueError\u001b[0m: threshold must be non-NAN, try sys.maxsize for untruncated representation"
          ]
        }
      ]
    },
    {
      "cell_type": "markdown",
      "metadata": {
        "id": "HrLb_QVsV6L1"
      },
      "source": [
        "#### 50. How to find the closest value (to a given scalar) in a vector? (★★☆) \n",
        "(**hint**: argmin)"
      ]
    },
    {
      "cell_type": "code",
      "metadata": {
        "id": "-bMjlfpFV6L1",
        "colab": {
          "base_uri": "https://localhost:8080/"
        },
        "outputId": "f293556f-5ee9-4e0f-debd-4a4d5885d1ca"
      },
      "source": [
        "Z = np.arange(100)\n",
        "v = np.random.uniform(0,100)\n",
        "index = (np.abs(Z-v)).argmin()\n",
        "print(Z[index])"
      ],
      "execution_count": null,
      "outputs": [
        {
          "output_type": "stream",
          "name": "stdout",
          "text": [
            "80\n"
          ]
        }
      ]
    },
    {
      "cell_type": "markdown",
      "metadata": {
        "id": "2DwtYJSaV6L1"
      },
      "source": [
        "#### 51. Create a structured array representing a position (x,y) and a color (r,g,b) (★★☆) \n",
        "(**hint**: dtype)"
      ]
    },
    {
      "cell_type": "code",
      "metadata": {
        "id": "TgRgQp6TV6L2",
        "colab": {
          "base_uri": "https://localhost:8080/"
        },
        "outputId": "b4452859-a932-4b13-f541-f8b4d9ce632f"
      },
      "source": [
        "Z = np.zeros(10, [ ('position', [ ('x', float, 1),\n",
        "('y', float, 1)]),\n",
        "('color', [ ('r', float, 1),\n",
        "('g', float, 1),\n",
        "('b', float, 1)])])\n",
        "print (Z)"
      ],
      "execution_count": null,
      "outputs": [
        {
          "output_type": "stream",
          "name": "stdout",
          "text": [
            "[((0., 0.), (0., 0., 0.)) ((0., 0.), (0., 0., 0.))\n",
            " ((0., 0.), (0., 0., 0.)) ((0., 0.), (0., 0., 0.))\n",
            " ((0., 0.), (0., 0., 0.)) ((0., 0.), (0., 0., 0.))\n",
            " ((0., 0.), (0., 0., 0.)) ((0., 0.), (0., 0., 0.))\n",
            " ((0., 0.), (0., 0., 0.)) ((0., 0.), (0., 0., 0.))]\n"
          ]
        },
        {
          "output_type": "stream",
          "name": "stderr",
          "text": [
            "/usr/local/lib/python3.7/dist-packages/ipykernel_launcher.py:5: FutureWarning: Passing (type, 1) or '1type' as a synonym of type is deprecated; in a future version of numpy, it will be understood as (type, (1,)) / '(1,)type'.\n",
            "  \"\"\"\n"
          ]
        }
      ]
    },
    {
      "cell_type": "markdown",
      "metadata": {
        "id": "hh3wMBRpV6L2"
      },
      "source": [
        "#### 52. Consider a random vector with shape (100,2) representing coordinates, find point by point distances (★★☆) \n",
        "(**hint**: np.atleast\\_2d, T, np.sqrt)"
      ]
    },
    {
      "cell_type": "markdown",
      "metadata": {
        "id": "6pAzqd-3V6L2"
      },
      "source": [
        "#### 53. How to convert a float (32 bits) array into an integer (32 bits) in place? \n",
        "(**hint**: astype(copy=False))"
      ]
    },
    {
      "cell_type": "code",
      "metadata": {
        "id": "LG1Jf2ZwV6L2",
        "colab": {
          "base_uri": "https://localhost:8080/"
        },
        "outputId": "8a926c6a-3772-4813-e709-daa81fc47994"
      },
      "source": [
        "Z = arange (10)\n",
        "Z = Z.astype\n",
        "print (Z)"
      ],
      "execution_count": null,
      "outputs": [
        {
          "output_type": "stream",
          "name": "stdout",
          "text": [
            "<built-in method astype of numpy.ndarray object at 0x7f457699c9e0>\n"
          ]
        }
      ]
    },
    {
      "cell_type": "markdown",
      "metadata": {
        "id": "mWHtDWK3V6L2"
      },
      "source": [
        "#### 54. How to read the following file? (★★☆) \n",
        "(**hint**: np.genfromtxt)"
      ]
    },
    {
      "cell_type": "markdown",
      "metadata": {
        "id": "a0JNfdo3V6L2"
      },
      "source": [
        "```\n",
        "1, 2, 3, 4, 5\n",
        "6,  ,  , 7, 8\n",
        " ,  , 9,10,11\n",
        "```"
      ]
    },
    {
      "cell_type": "code",
      "metadata": {
        "id": "4XCg77saV6L2",
        "colab": {
          "base_uri": "https://localhost:8080/"
        },
        "outputId": "72461ca1-aaa4-4bbe-8b7f-0b0e4f56cec2"
      },
      "source": [
        "from io import StringIO\n",
        "s = StringIO('''1, 2, 3, 4, 5\n",
        "                6,  ,  , 7, 8\n",
        "                 ,  , 9,10,11''')\n",
        "Z = np.genfromtxt(s, delimiter=\",\", dtype=np.int)\n",
        "print(Z)"
      ],
      "execution_count": null,
      "outputs": [
        {
          "output_type": "stream",
          "name": "stdout",
          "text": [
            "[[ 1  2  3  4  5]\n",
            " [ 6 -1 -1  7  8]\n",
            " [-1 -1  9 10 11]]\n"
          ]
        }
      ]
    },
    {
      "cell_type": "markdown",
      "metadata": {
        "id": "g3CCTr94V6L2"
      },
      "source": [
        "#### 55. What is the equivalent of enumerate for numpy arrays? (★★☆) \n",
        "(**hint**: np.ndenumerate, np.ndindex)"
      ]
    },
    {
      "cell_type": "code",
      "metadata": {
        "id": "B81UplnZV6L3",
        "colab": {
          "base_uri": "https://localhost:8080/"
        },
        "outputId": "5577b6f3-eb90-4f1c-b902-1d63e3a890c6"
      },
      "source": [
        "J = np.arange(9).reshape(3,3)\n",
        "for index, value in np.ndenumerate(J):\n",
        "    print(index, value)\n",
        "for index in np.ndindex(J.shape):\n",
        "    print(index, J[index])"
      ],
      "execution_count": null,
      "outputs": [
        {
          "output_type": "stream",
          "name": "stdout",
          "text": [
            "(0, 0) 0\n",
            "(0, 1) 1\n",
            "(0, 2) 2\n",
            "(1, 0) 3\n",
            "(1, 1) 4\n",
            "(1, 2) 5\n",
            "(2, 0) 6\n",
            "(2, 1) 7\n",
            "(2, 2) 8\n",
            "(0, 0) 0\n",
            "(0, 1) 1\n",
            "(0, 2) 2\n",
            "(1, 0) 3\n",
            "(1, 1) 4\n",
            "(1, 2) 5\n",
            "(2, 0) 6\n",
            "(2, 1) 7\n",
            "(2, 2) 8\n"
          ]
        }
      ]
    },
    {
      "cell_type": "markdown",
      "metadata": {
        "id": "3VvjFR4hV6L3"
      },
      "source": [
        "#### 56. Generate a generic 2D Gaussian-like array (★★☆) \n",
        "(**hint**: np.meshgrid, np.exp)"
      ]
    },
    {
      "cell_type": "code",
      "metadata": {
        "id": "Fr9fn7UoV6L3",
        "colab": {
          "base_uri": "https://localhost:8080/"
        },
        "outputId": "039a861b-7365-457a-e009-12e7ebc1f492"
      },
      "source": [
        "A, B = np.meshgrid(np.linspace(-1,1,10), np.linspace(-1,1,10))\n",
        "C = np.sqrt(A*B+A*B)\n",
        "sigma, mu = 1.0, 0.0\n",
        "D = np.exp(-( (C-mu)**2 / ( 2.0 * sigma**2 ) ) )\n",
        "print(D)"
      ],
      "execution_count": null,
      "outputs": [
        {
          "output_type": "stream",
          "name": "stdout",
          "text": [
            "[[0.36787944 0.45942582 0.57375342 0.71653131 0.89483932        nan\n",
            "         nan        nan        nan        nan]\n",
            " [0.45942582 0.54610814 0.64914526 0.77162295 0.91720915        nan\n",
            "         nan        nan        nan        nan]\n",
            " [0.57375342 0.64914526 0.73444367 0.83095039 0.9401382         nan\n",
            "         nan        nan        nan        nan]\n",
            " [0.71653131 0.77162295 0.83095039 0.89483932 0.96364044        nan\n",
            "         nan        nan        nan        nan]\n",
            " [0.89483932 0.91720915 0.9401382  0.96364044 0.98773022        nan\n",
            "         nan        nan        nan        nan]\n",
            " [       nan        nan        nan        nan        nan 0.98773022\n",
            "  0.96364044 0.9401382  0.91720915 0.89483932]\n",
            " [       nan        nan        nan        nan        nan 0.96364044\n",
            "  0.89483932 0.83095039 0.77162295 0.71653131]\n",
            " [       nan        nan        nan        nan        nan 0.9401382\n",
            "  0.83095039 0.73444367 0.64914526 0.57375342]\n",
            " [       nan        nan        nan        nan        nan 0.91720915\n",
            "  0.77162295 0.64914526 0.54610814 0.45942582]\n",
            " [       nan        nan        nan        nan        nan 0.89483932\n",
            "  0.71653131 0.57375342 0.45942582 0.36787944]]\n"
          ]
        },
        {
          "output_type": "stream",
          "name": "stderr",
          "text": [
            "/usr/local/lib/python3.7/dist-packages/ipykernel_launcher.py:2: RuntimeWarning: invalid value encountered in sqrt\n",
            "  \n"
          ]
        }
      ]
    },
    {
      "cell_type": "markdown",
      "metadata": {
        "id": "93OvVrGbV6L3"
      },
      "source": [
        "#### 57. How to randomly place p elements in a 2D array? (★★☆) \n",
        "(**hint**: np.put, np.random.choice)"
      ]
    },
    {
      "cell_type": "code",
      "metadata": {
        "id": "yJhs32WpV6L3",
        "colab": {
          "base_uri": "https://localhost:8080/"
        },
        "outputId": "d1b88699-5e58-4309-c99d-0a907006f3be"
      },
      "source": [
        "n = 10\n",
        "p = 3\n",
        "Z = np.zeros((n,n))\n",
        "np.put(Z, np.random.choice(range(n*n), p, replace=False),1)\n",
        "print (Z)"
      ],
      "execution_count": null,
      "outputs": [
        {
          "output_type": "stream",
          "name": "stdout",
          "text": [
            "[[0. 0. 0. 0. 1. 0. 0. 0. 0. 0.]\n",
            " [0. 0. 0. 0. 0. 0. 0. 0. 0. 0.]\n",
            " [0. 0. 0. 0. 0. 0. 0. 0. 0. 0.]\n",
            " [0. 0. 0. 0. 0. 0. 0. 0. 0. 0.]\n",
            " [0. 0. 0. 0. 0. 0. 0. 0. 0. 0.]\n",
            " [0. 0. 0. 0. 0. 0. 1. 0. 0. 0.]\n",
            " [0. 0. 0. 0. 0. 0. 0. 0. 0. 0.]\n",
            " [0. 0. 0. 0. 0. 0. 0. 0. 0. 0.]\n",
            " [0. 0. 0. 0. 0. 0. 0. 0. 0. 0.]\n",
            " [0. 0. 0. 0. 0. 0. 0. 0. 1. 0.]]\n"
          ]
        }
      ]
    },
    {
      "cell_type": "markdown",
      "metadata": {
        "id": "Vk6gf8sgV6L3"
      },
      "source": [
        "#### 58. Subtract the mean of each row of a matrix (★★☆) \n",
        "(**hint**: mean(axis=,keepdims=))"
      ]
    },
    {
      "cell_type": "code",
      "metadata": {
        "id": "STkfnovQV6L3",
        "colab": {
          "base_uri": "https://localhost:8080/"
        },
        "outputId": "eb7ea6e7-b750-4cca-94d1-f1360c7533e5"
      },
      "source": [
        "A = np.random.rand(5, 10)\n",
        "B = A-A.mean(axis=1, keepdims=True)\n",
        "print(B)"
      ],
      "execution_count": null,
      "outputs": [
        {
          "output_type": "stream",
          "name": "stdout",
          "text": [
            "[[ 0.57955088  0.17275658 -0.22731145 -0.17258094 -0.31606098 -0.17292639\n",
            "  -0.33692509 -0.35847044  0.25747109  0.57449674]\n",
            " [ 0.38810442 -0.37689835 -0.42101888 -0.052156   -0.18228558 -0.27207125\n",
            "   0.41847307  0.15254093  0.2984869   0.04682475]\n",
            " [-0.0523233  -0.27894082  0.27590975  0.34133368 -0.41841547 -0.1707178\n",
            "   0.37450246 -0.04711466 -0.35530919  0.33107535]\n",
            " [ 0.07346969  0.27337826  0.09896498 -0.15645207 -0.22180747  0.54668647\n",
            "  -0.38526965  0.18595264 -0.31924455 -0.0956783 ]\n",
            " [-0.03737367  0.00365053  0.11960723 -0.08766991  0.28242158  0.1518635\n",
            "   0.0460346  -0.33578625  0.03196817 -0.17471578]]\n"
          ]
        }
      ]
    },
    {
      "cell_type": "markdown",
      "metadata": {
        "id": "1v_9qiTsV6L3"
      },
      "source": [
        "#### 59. How to sort an array by the nth column? (★★☆) \n",
        "(**hint**: argsort)"
      ]
    },
    {
      "cell_type": "code",
      "metadata": {
        "id": "3RPIBlmYV6L3",
        "colab": {
          "base_uri": "https://localhost:8080/"
        },
        "outputId": "405e6993-1be3-4d9c-daaa-feb0b389c234"
      },
      "source": [
        "Z = np.random.randint(0,10,(3,3))\n",
        "print (Z)\n",
        "print (Z[Z[:,1].argsort()])"
      ],
      "execution_count": null,
      "outputs": [
        {
          "output_type": "stream",
          "name": "stdout",
          "text": [
            "[[4 6 8]\n",
            " [1 8 0]\n",
            " [4 0 7]]\n",
            "[[4 0 7]\n",
            " [4 6 8]\n",
            " [1 8 0]]\n"
          ]
        }
      ]
    },
    {
      "cell_type": "markdown",
      "metadata": {
        "id": "TZSgbvZaV6L3"
      },
      "source": [
        "#### 60. How to tell if a given 2D array has null columns? (★★☆) \n",
        "(**hint**: any, ~)"
      ]
    },
    {
      "cell_type": "code",
      "metadata": {
        "id": "cy9PXzNfV6L3",
        "colab": {
          "base_uri": "https://localhost:8080/"
        },
        "outputId": "570162ab-5640-4306-e98a-b8aea33c4a40"
      },
      "source": [
        "Z = np.random.randint(0,3,(3,10))\n",
        "print ((~Z.any(axis=0)).any())"
      ],
      "execution_count": null,
      "outputs": [
        {
          "output_type": "stream",
          "name": "stdout",
          "text": [
            "False\n"
          ]
        }
      ]
    },
    {
      "cell_type": "markdown",
      "metadata": {
        "id": "PQPZdyIEV6L3"
      },
      "source": [
        "#### 61. Find the nearest value from a given value in an array (★★☆) \n",
        "(**hint**: np.abs, argmin, flat)"
      ]
    },
    {
      "cell_type": "code",
      "metadata": {
        "id": "DGBXa24gV6L4",
        "colab": {
          "base_uri": "https://localhost:8080/"
        },
        "outputId": "9a1cb73f-b35e-4c8a-87fc-fd58df0f9975"
      },
      "source": [
        "A = np.random.uniform(0,1,10)\n",
        "B = 0.5\n",
        "X = A.flat[np.abs(A-B).argmin()]\n",
        "print (X)"
      ],
      "execution_count": null,
      "outputs": [
        {
          "output_type": "stream",
          "name": "stdout",
          "text": [
            "0.4597280184840332\n"
          ]
        }
      ]
    },
    {
      "cell_type": "markdown",
      "metadata": {
        "id": "kvR-Qwo_V6L4"
      },
      "source": [
        "#### 62. Considering two arrays with shape (1,3) and (3,1), how to compute their sum using an iterator? (★★☆) \n",
        "(**hint**: np.nditer)"
      ]
    },
    {
      "cell_type": "code",
      "metadata": {
        "id": "rVuaq8DZV6L4",
        "colab": {
          "base_uri": "https://localhost:8080/"
        },
        "outputId": "10245348-2c68-4c1d-a31f-d5159829273a"
      },
      "source": [
        "A = np.arange(3).reshape(3,1)\n",
        "B = np.arange(3).reshape(1,3)\n",
        "it = np.nditer([A,B,None])\n",
        "for x,y,z in it: \n",
        "    z[...] = x + y\n",
        "print (it.operands[2])"
      ],
      "execution_count": null,
      "outputs": [
        {
          "output_type": "stream",
          "name": "stdout",
          "text": [
            "[[0 1 2]\n",
            " [1 2 3]\n",
            " [2 3 4]]\n"
          ]
        }
      ]
    },
    {
      "cell_type": "markdown",
      "metadata": {
        "id": "86k_uOuYV6L4"
      },
      "source": [
        "#### 63. Create an array class that has a name attribute (★★☆) \n",
        "(**hint**: class method)"
      ]
    },
    {
      "cell_type": "code",
      "metadata": {
        "id": "5T9HkzmeV6L4",
        "colab": {
          "base_uri": "https://localhost:8080/"
        },
        "outputId": "53258ea5-06b9-49b2-c9ec-cd7ce570f03d"
      },
      "source": [
        "class NamedArray(np.ndarray):\n",
        "    def __new__(cls, array, name=\"no name\"):\n",
        "        obj = np.asarray(array).view(cls)\n",
        "        obj.name = name\n",
        "        return obj\n",
        "    def __array_finalize__(self, obj):\n",
        "        if obj is None: return\n",
        "        self.info = getattr(obj,'name', \"no name\")\n",
        "Z = NamedArray(np.arange(10), \"range_10\")\n",
        "print (Z.name)"
      ],
      "execution_count": null,
      "outputs": [
        {
          "output_type": "stream",
          "name": "stdout",
          "text": [
            "range_10\n"
          ]
        }
      ]
    },
    {
      "cell_type": "markdown",
      "metadata": {
        "id": "6kU9VgDrV6L4"
      },
      "source": [
        "#### 64. Consider a given vector, how to add 1 to each element indexed by a second vector (be careful with repeated indices)? (★★★) \n",
        "(**hint**: np.bincount | np.add.at)"
      ]
    },
    {
      "cell_type": "code",
      "metadata": {
        "id": "FqjfMtUWV6L4",
        "colab": {
          "base_uri": "https://localhost:8080/"
        },
        "outputId": "f7c5d2a7-191f-431a-d132-2d147cfda7b6"
      },
      "source": [
        "np.add.at(Z, I, 1)\n",
        "print(Z)"
      ],
      "execution_count": null,
      "outputs": [
        {
          "output_type": "stream",
          "name": "stdout",
          "text": [
            "[5. 1. 9. 3. 3. 3. 5. 7. 5. 9.]\n"
          ]
        }
      ]
    },
    {
      "cell_type": "markdown",
      "metadata": {
        "id": "k1QfNchaV6L4"
      },
      "source": [
        "#### 65. How to accumulate elements of a vector (X) to an array (F) based on an index list (I)? (★★★) \n",
        "(**hint**: np.bincount)"
      ]
    },
    {
      "cell_type": "code",
      "metadata": {
        "id": "1dpx5Ui7V6L4",
        "colab": {
          "base_uri": "https://localhost:8080/"
        },
        "outputId": "4e76b08e-7dba-4f65-9db0-071b570bcd0f"
      },
      "source": [
        "X = [1,2,3,4,5,6]\n",
        "I = [1,3,9,3,4,1]\n",
        "F = np.bincount(I,X)\n",
        "print (F)"
      ],
      "execution_count": null,
      "outputs": [
        {
          "output_type": "stream",
          "name": "stdout",
          "text": [
            "[0. 7. 0. 6. 5. 0. 0. 0. 0. 3.]\n"
          ]
        }
      ]
    },
    {
      "cell_type": "markdown",
      "metadata": {
        "id": "8OgtXnsOV6L4"
      },
      "source": [
        "#### 66. Considering a (w,h,3) image of (dtype=ubyte), compute the number of unique colors (★★★) \n",
        "(**hint**: np.unique)"
      ]
    },
    {
      "cell_type": "code",
      "metadata": {
        "id": "nsMaUuvOV6L4",
        "colab": {
          "base_uri": "https://localhost:8080/"
        },
        "outputId": "a6218b35-5ab6-42b2-f383-bffcead31b19"
      },
      "source": [
        "w,h = 16,16\n",
        "A = np.random.randint(0,2,(h,w,3)).astype(np.ubyte)\n",
        "B = A[...,0]*(256*256) + A[...,1]*256 +A[...,2]\n",
        "C = len(np.unique(B))\n",
        "print (C)"
      ],
      "execution_count": null,
      "outputs": [
        {
          "output_type": "stream",
          "name": "stdout",
          "text": [
            "8\n"
          ]
        }
      ]
    },
    {
      "cell_type": "markdown",
      "metadata": {
        "id": "_FoFul0LV6L4"
      },
      "source": [
        "#### 67. Considering a four dimensions array, how to get sum over the last two axis at once? (★★★) \n",
        "(**hint**: sum(axis=(-2,-1)))"
      ]
    },
    {
      "cell_type": "code",
      "metadata": {
        "id": "7m8L8CHdV6L4",
        "colab": {
          "base_uri": "https://localhost:8080/"
        },
        "outputId": "5bc242d5-4b75-43a9-b22d-8c347be9ea49"
      },
      "source": [
        "sum = A.reshape(A.shape[:-2] + (-1,)).sum(axis=-1)\n",
        "print (sum)"
      ],
      "execution_count": null,
      "outputs": [
        {
          "output_type": "stream",
          "name": "stdout",
          "text": [
            "[23 25 19 20 15 25 25 19 28 18 28 21 18 22 23 23]\n"
          ]
        }
      ]
    },
    {
      "cell_type": "markdown",
      "metadata": {
        "id": "of1LCCFLV6L4"
      },
      "source": [
        "#### 68. Considering a one-dimensional vector D, how to compute means of subsets of D using a vector S of same size describing subset  indices? (★★★) \n",
        "(**hint**: np.bincount)"
      ]
    },
    {
      "cell_type": "code",
      "metadata": {
        "id": "j8EYXmQzV6L5",
        "colab": {
          "base_uri": "https://localhost:8080/"
        },
        "outputId": "af5b188c-eb96-460c-bece-53a7949d1371"
      },
      "source": [
        "#1\n",
        "D = np.random.uniform(0,1,100)\n",
        "S = np.random.randint(0,10,100)\n",
        "D_sums = np.bincount(S, weights=D)\n",
        "D_counts = np.bincount(S)\n",
        "D_means = D_sums/D_counts\n",
        "print (D_means)\n",
        "\n",
        "#2\n",
        "import pandas as pd\n",
        "print(pd.Series(D).groupby(S).mean())"
      ],
      "execution_count": null,
      "outputs": [
        {
          "output_type": "stream",
          "name": "stdout",
          "text": [
            "[0.37596172 0.47563917 0.55525904 0.47484781 0.3740643  0.38479773\n",
            " 0.44086906 0.32351324 0.49805579 0.48877384]\n",
            "0    0.375962\n",
            "1    0.475639\n",
            "2    0.555259\n",
            "3    0.474848\n",
            "4    0.374064\n",
            "5    0.384798\n",
            "6    0.440869\n",
            "7    0.323513\n",
            "8    0.498056\n",
            "9    0.488774\n",
            "dtype: float64\n"
          ]
        }
      ]
    },
    {
      "cell_type": "markdown",
      "metadata": {
        "id": "BQ5Q33MtV6L5"
      },
      "source": [
        "#### 69. How to get the diagonal of a dot product? (★★★) \n",
        "(**hint**: np.diag)"
      ]
    },
    {
      "cell_type": "code",
      "metadata": {
        "id": "kB9GP4JKV6L5",
        "colab": {
          "base_uri": "https://localhost:8080/"
        },
        "outputId": "eca6dda5-3022-408a-a655-9ef5f1c6bf87"
      },
      "source": [
        "A = np.random.uniform(0,1,(5,5))\n",
        "B = np.random.uniform(0,1,(5,5))\n",
        "np.diag(np.dot(A, B))"
      ],
      "execution_count": null,
      "outputs": [
        {
          "output_type": "execute_result",
          "data": {
            "text/plain": [
              "array([0.97488333, 2.48719299, 1.41100555, 1.68672983, 1.00296078])"
            ]
          },
          "metadata": {},
          "execution_count": 118
        }
      ]
    },
    {
      "cell_type": "markdown",
      "metadata": {
        "id": "8RUda0MiV6L5"
      },
      "source": [
        "#### 70. Consider the vector \\[1, 2, 3, 4, 5\\], how to build a new vector with 3 consecutive zeros interleaved between each value? (★★★) \n",
        "(**hint**: array\\[::4\\])"
      ]
    },
    {
      "cell_type": "code",
      "metadata": {
        "id": "GGg4KHwMV6L5",
        "colab": {
          "base_uri": "https://localhost:8080/"
        },
        "outputId": "796dcd37-6f68-4a69-94a2-3147d4e8df25"
      },
      "source": [
        "Z = np.array([1,2,3,4,5])\n",
        "nz = 3\n",
        "Z0 = np.zeros(len(Z) + (len(Z)-1)*(nz))\n",
        "Z0[::nz+1] = Z\n",
        "print (Z0)"
      ],
      "execution_count": null,
      "outputs": [
        {
          "output_type": "stream",
          "name": "stdout",
          "text": [
            "[1. 0. 0. 0. 2. 0. 0. 0. 3. 0. 0. 0. 4. 0. 0. 0. 5.]\n"
          ]
        }
      ]
    },
    {
      "cell_type": "markdown",
      "metadata": {
        "id": "5RpOV6q0V6L5"
      },
      "source": [
        "#### 71. Consider an array of dimension (5,5,3), how to mulitply it by an array with dimensions (5,5)? (★★★) \n",
        "(**hint**: array\\[:, :, None\\])"
      ]
    },
    {
      "cell_type": "code",
      "metadata": {
        "collapsed": true,
        "id": "SdHXPiSqV6L5",
        "colab": {
          "base_uri": "https://localhost:8080/"
        },
        "outputId": "ac7e8f38-2a1f-4b9a-e896-709e710c54c9"
      },
      "source": [
        "A = np.ones((5,5,3))\n",
        "B = 2*np.ones((5,5))\n",
        "print (A * B[:,:,None])"
      ],
      "execution_count": null,
      "outputs": [
        {
          "output_type": "stream",
          "name": "stdout",
          "text": [
            "[[[2. 2. 2.]\n",
            "  [2. 2. 2.]\n",
            "  [2. 2. 2.]\n",
            "  [2. 2. 2.]\n",
            "  [2. 2. 2.]]\n",
            "\n",
            " [[2. 2. 2.]\n",
            "  [2. 2. 2.]\n",
            "  [2. 2. 2.]\n",
            "  [2. 2. 2.]\n",
            "  [2. 2. 2.]]\n",
            "\n",
            " [[2. 2. 2.]\n",
            "  [2. 2. 2.]\n",
            "  [2. 2. 2.]\n",
            "  [2. 2. 2.]\n",
            "  [2. 2. 2.]]\n",
            "\n",
            " [[2. 2. 2.]\n",
            "  [2. 2. 2.]\n",
            "  [2. 2. 2.]\n",
            "  [2. 2. 2.]\n",
            "  [2. 2. 2.]]\n",
            "\n",
            " [[2. 2. 2.]\n",
            "  [2. 2. 2.]\n",
            "  [2. 2. 2.]\n",
            "  [2. 2. 2.]\n",
            "  [2. 2. 2.]]]\n"
          ]
        }
      ]
    },
    {
      "cell_type": "markdown",
      "metadata": {
        "id": "hB9G8JKaV6L5"
      },
      "source": [
        "#### 72. How to swap two rows of an array? (★★★) \n",
        "(**hint**: array\\[\\[\\]\\] = array\\[\\[\\]\\])"
      ]
    },
    {
      "cell_type": "code",
      "metadata": {
        "id": "dWc8QEt1V6L5",
        "colab": {
          "base_uri": "https://localhost:8080/"
        },
        "outputId": "c9382b9c-e661-4bad-fb04-68d3941f5fbb"
      },
      "source": [
        "A = np.arange(25).reshape(5,5)\n",
        "A[[0,1]] = A[[1,0]]\n",
        "print (A)"
      ],
      "execution_count": null,
      "outputs": [
        {
          "output_type": "stream",
          "name": "stdout",
          "text": [
            "[[ 5  6  7  8  9]\n",
            " [ 0  1  2  3  4]\n",
            " [10 11 12 13 14]\n",
            " [15 16 17 18 19]\n",
            " [20 21 22 23 24]]\n"
          ]
        }
      ]
    },
    {
      "cell_type": "markdown",
      "metadata": {
        "id": "qZ79F-UTV6L5"
      },
      "source": [
        "#### 73. Consider a set of 10 triplets describing 10 triangles (with shared vertices), find the set of unique line segments composing all the  triangles (★★★) \n",
        "(**hint**: repeat, np.roll, np.sort, view, np.unique)"
      ]
    },
    {
      "cell_type": "code",
      "metadata": {
        "id": "pa7xO4ypV6L5",
        "colab": {
          "base_uri": "https://localhost:8080/"
        },
        "outputId": "8ba610f9-58c1-4f0c-b2ad-1c2df7d10747"
      },
      "source": [
        "faces = np.random.randint(0,100,(10,3))\n",
        "A = np.roll(faces.repeat(2,axis=1),-1,axis=1)\n",
        "A = A.reshape(len(A)*3,2)\n",
        "A = np.sort(A,axis=1)\n",
        "B = A.view( dtype=[('p0',A.dtype),('p1',A.dtype)])\n",
        "B = np.unique(B)\n",
        "print (B)"
      ],
      "execution_count": null,
      "outputs": [
        {
          "output_type": "stream",
          "name": "stdout",
          "text": [
            "[( 7, 74) ( 7, 75) ( 8, 36) ( 8, 95) (10, 50) (10, 74) (11, 52) (11, 64)\n",
            " (13, 53) (13, 90) (15, 20) (15, 79) (16, 16) (16, 79) (20, 79) (32, 61)\n",
            " (32, 66) (36, 95) (50, 74) (52, 64) (53, 90) (54, 78) (54, 96) (59, 73)\n",
            " (59, 75) (61, 66) (73, 75) (74, 75) (78, 96)]\n"
          ]
        }
      ]
    },
    {
      "cell_type": "markdown",
      "metadata": {
        "id": "qRC0VXAcV6L5"
      },
      "source": [
        "#### 74. Given an array C that is a bincount, how to produce an array A such that np.bincount(A) == C? (★★★) \n",
        "(**hint**: np.repeat)"
      ]
    },
    {
      "cell_type": "code",
      "metadata": {
        "id": "3wvjL9kXV6L5",
        "colab": {
          "base_uri": "https://localhost:8080/"
        },
        "outputId": "8b195347-6241-471b-c9e7-c2393f3733e4"
      },
      "source": [
        "C = np.bincount([1,1,2,3,4,4,6])\n",
        "A = np.repeat(np.arange(len(C)), C)\n",
        "print (A)"
      ],
      "execution_count": null,
      "outputs": [
        {
          "output_type": "stream",
          "name": "stdout",
          "text": [
            "[1 1 2 3 4 4 6]\n"
          ]
        }
      ]
    },
    {
      "cell_type": "markdown",
      "metadata": {
        "id": "2xcIuf4jV6L5"
      },
      "source": [
        "#### 75. How to compute averages using a sliding window over an array? (★★★) \n",
        "(**hint**: np.cumsum)"
      ]
    },
    {
      "cell_type": "code",
      "metadata": {
        "id": "REypXzR2V6L6",
        "colab": {
          "base_uri": "https://localhost:8080/"
        },
        "outputId": "5f42fe8d-d59c-4eb5-9ae2-4be387d6e980"
      },
      "source": [
        "def moving_average(a, n=3):\n",
        "    ret = np.cumsum(a, dtype=float)\n",
        "    ret[n:] = ret[n:]-ret[:-n]\n",
        "    return ret[n-1:]/n\n",
        "Z = np.arange(20)\n",
        "print(moving_average(Z, n=3))"
      ],
      "execution_count": null,
      "outputs": [
        {
          "output_type": "stream",
          "name": "stdout",
          "text": [
            "[ 1.  2.  3.  4.  5.  6.  7.  8.  9. 10. 11. 12. 13. 14. 15. 16. 17. 18.]\n"
          ]
        }
      ]
    },
    {
      "cell_type": "markdown",
      "metadata": {
        "id": "_gvbAdtcV6L6"
      },
      "source": [
        "#### 76. Consider a one-dimensional array Z, build a two-dimensional array whose first row is (Z\\[0\\],Z\\[1\\],Z\\[2\\]) and each subsequent row is  shifted by 1 (last row should be (Z\\[-3\\],Z\\[-2\\],Z\\[-1\\]) (★★★) \n",
        "(**hint**: from numpy.lib import stride_tricks)"
      ]
    },
    {
      "cell_type": "code",
      "metadata": {
        "id": "pT__g9V3V6L6",
        "colab": {
          "base_uri": "https://localhost:8080/"
        },
        "outputId": "9ce6f28c-362d-4df8-c2ef-109e23b328d6"
      },
      "source": [
        "from numpy.lib import stride_tricks\n",
        "def rolling(a, window):\n",
        "    shape = (a.size-window + 1, window)\n",
        "    strides = (a.itemsize, a.itemsize)\n",
        "    return stride_tricks.as_strided(a, shape=shape, strides=strides)\n",
        "Z = rolling(np.arange(10), 3)\n",
        "print (Z)"
      ],
      "execution_count": null,
      "outputs": [
        {
          "output_type": "stream",
          "name": "stdout",
          "text": [
            "[[0 1 2]\n",
            " [1 2 3]\n",
            " [2 3 4]\n",
            " [3 4 5]\n",
            " [4 5 6]\n",
            " [5 6 7]\n",
            " [6 7 8]\n",
            " [7 8 9]]\n"
          ]
        }
      ]
    },
    {
      "cell_type": "markdown",
      "metadata": {
        "id": "6GXZvqwaV6L6"
      },
      "source": [
        "#### 77. How to negate a boolean, or to change the sign of a float inplace? (★★★) \n",
        "(**hint**: np.logical_not, np.negative)"
      ]
    },
    {
      "cell_type": "code",
      "metadata": {
        "id": "aUGnAcViV6L6",
        "colab": {
          "base_uri": "https://localhost:8080/"
        },
        "outputId": "2f046ef0-03ae-45b6-ba90-23e59c07375d"
      },
      "source": [
        "Z = np.random.randint(0,2,100)\n",
        "np.logical_not(Z, out=Z)\n",
        "\n",
        "Z = np.random.uniform(-1.0,1.0,100)\n",
        "np.negative(Z, out=Z)"
      ],
      "execution_count": null,
      "outputs": [
        {
          "output_type": "execute_result",
          "data": {
            "text/plain": [
              "array([ 0.47782182, -0.04953179,  0.6003413 ,  0.9239289 ,  0.45730107,\n",
              "        0.32669392, -0.73351288, -0.55341602,  0.65572963,  0.51222477,\n",
              "       -0.02951496, -0.38813248, -0.26793214,  0.69351777,  0.91733865,\n",
              "       -0.91579474,  0.35515985,  0.56559186,  0.8236742 ,  0.2323934 ,\n",
              "       -0.60373454, -0.49904597, -0.44954852, -0.6691737 ,  0.06984589,\n",
              "       -0.83332068,  0.09861511,  0.62401916,  0.83503996,  0.01266084,\n",
              "        0.51623332,  0.33455221, -0.70358931, -0.18614551, -0.94681651,\n",
              "        0.14573686, -0.639036  ,  0.88215619, -0.04613632,  0.10477314,\n",
              "        0.9513926 ,  0.92884749,  0.73086326, -0.07815125, -0.7251521 ,\n",
              "        0.45147303,  0.31301011,  0.81659538, -0.70070062, -0.69797207,\n",
              "       -0.00545578,  0.16872566, -0.87197671,  0.1293524 , -0.36254433,\n",
              "       -0.72547258, -0.24303945,  0.84728248,  0.37182651,  0.93121914,\n",
              "       -0.85330659, -0.09739155, -0.74747962, -0.71256755,  0.61032466,\n",
              "        0.19712111, -0.95938627, -0.58103602,  0.16824456,  0.16973325,\n",
              "       -0.36054376,  0.1495468 , -0.32215597, -0.66512115, -0.68185571,\n",
              "        0.97135049,  0.3706333 , -0.787988  , -0.30687438, -0.38022525,\n",
              "        0.75646079,  0.91229404, -0.33397775,  0.39049916, -0.95329278,\n",
              "       -0.48028622,  0.8338694 ,  0.87098767,  0.24172316,  0.78216579,\n",
              "        0.32670495, -0.35504961,  0.82874312,  0.50938915,  0.66819107,\n",
              "        0.27464885,  0.08777711,  0.23855782, -0.52850632,  0.65223173])"
            ]
          },
          "metadata": {},
          "execution_count": 127
        }
      ]
    },
    {
      "cell_type": "markdown",
      "metadata": {
        "id": "pJwCXy7FV6L6"
      },
      "source": [
        "#### 78. Consider 2 sets of points P0,P1 describing lines (2d) and a point p, how to compute distance from p to each line i  (P0\\[i\\],P1\\[i\\])? (★★★)"
      ]
    },
    {
      "cell_type": "code",
      "metadata": {
        "id": "QEa8GvVOV6L6",
        "colab": {
          "base_uri": "https://localhost:8080/"
        },
        "outputId": "67e9ef2c-241b-4681-bb9f-55599267513b"
      },
      "source": [
        "def distance(P0, P1, p):\n",
        "    T = P1-P0\n",
        "    L = (T**2).sum(axis=1)\n",
        "    U = -((P0[:,0]-p[...,0])*T[:,0] + (P0[:,1]-p[...,1])*T[: ,1])/L\n",
        "    U = U.reshape(len(U),1)\n",
        "    D = P0 + U*T-p\n",
        "    return np.sqrt((D**2).sum(axis=1))\n",
        "\n",
        "P0 = np.random.uniform(-10,10,(10,2))\n",
        "P1 = np.random.uniform(-10,10,(10,2))\n",
        "p = np.random.uniform(-10,10,( 1,2))\n",
        "\n",
        "print (distance(P0, P1, p))"
      ],
      "execution_count": null,
      "outputs": [
        {
          "output_type": "stream",
          "name": "stdout",
          "text": [
            "[10.93777159  0.71705895  1.32468233  5.82397687  1.57840741 16.19500568\n",
            "  2.7418855   5.60616864  9.43265995  8.51054435]\n"
          ]
        }
      ]
    },
    {
      "cell_type": "markdown",
      "metadata": {
        "id": "ABD6dN8AV6L6"
      },
      "source": [
        "#### 79. Consider 2 sets of points P0,P1 describing lines (2d) and a set of points P, how to compute distance from each point j (P\\[j\\]) to each line i (P0\\[i\\],P1\\[i\\])? (★★★)"
      ]
    },
    {
      "cell_type": "code",
      "metadata": {
        "id": "j2GWCTw4V6L6",
        "colab": {
          "base_uri": "https://localhost:8080/"
        },
        "outputId": "1606405b-e69e-473d-b652-6f985249a2e9"
      },
      "source": [
        "P0 = np.random.uniform(-10, 10, (10,2))\n",
        "P1 = np.random.uniform(-10,10,(10,2))\n",
        "p = np.random.uniform(-10, 10, (10,2))\n",
        "print (np.array([distance(P0,P1,p_i) for p_i in p]))"
      ],
      "execution_count": null,
      "outputs": [
        {
          "output_type": "stream",
          "name": "stdout",
          "text": [
            "[[11.79525291  2.41096217  7.41787296  4.28197439 10.65063836  0.49720029\n",
            "   5.05043015  1.17377832  4.07308814  5.93040724]\n",
            " [ 3.57779036 13.7871397   7.92214909  6.28364932  2.70559518 16.25280051\n",
            "   1.41501965 13.26051411  1.20227575  9.56214654]\n",
            " [16.80469027  2.19694451  7.3563458   3.53210979 12.59116055  1.16097262\n",
            "   3.12957435  1.70664599  3.91409585  0.34640805]\n",
            " [ 7.73032093 14.3940928   5.88501509  9.59878854  0.2787174  14.52509223\n",
            "   5.50679237  9.87726136  3.25855073 10.85710385]\n",
            " [ 2.81987887  0.76292473  1.09094583  8.53395437  2.93280157  6.33019241\n",
            "  11.4171055   9.40362669 11.72471656  5.65784933]\n",
            " [ 8.80874935  4.44874654  1.21053156  0.51542511  5.37997866  6.91304576\n",
            "   1.88648324  5.86794523  2.37569477  0.70955474]\n",
            " [ 5.44104948  1.03813995  1.45522965  5.04568901  4.20938562  6.2449936\n",
            "   7.64750609  7.7074282   7.95558851  3.36904478]\n",
            " [ 5.68634408  6.65232863  2.05011049  0.6408735   1.99695734 10.09816619\n",
            "   2.73687997  9.23616952  3.94148618  2.49608726]\n",
            " [ 6.1044464   1.35009334  1.64094358  4.30445938  4.5940905   6.12141365\n",
            "   6.81387617  7.23354876  7.09839166  2.93907271]\n",
            " [ 6.43718217  4.81941096  5.84569617 10.15931181  7.49590571  1.57410252\n",
            "  11.69042792  5.03560035 10.92172097  9.28787095]]\n"
          ]
        }
      ]
    },
    {
      "cell_type": "markdown",
      "metadata": {
        "id": "KiNTWPvgV6L6"
      },
      "source": [
        "#### 80. Consider an arbitrary array, write a function that extract a subpart with a fixed shape and centered on a given element (pad with a `fill` value when necessary) (★★★) \n",
        "(**hint**: minimum, maximum)"
      ]
    },
    {
      "cell_type": "code",
      "metadata": {
        "id": "mVI0hAV_V6L7"
      },
      "source": [
        ""
      ],
      "execution_count": null,
      "outputs": []
    },
    {
      "cell_type": "markdown",
      "metadata": {
        "id": "PW2arZQbV6L7"
      },
      "source": [
        "#### 81. Consider an array Z = \\[1,2,3,4,5,6,7,8,9,10,11,12,13,14\\], how to generate an array R = \\[\\[1,2,3,4\\], \\[2,3,4,5\\], \\[3,4,5,6\\], ..., \\[11,12,13,14\\]\\]? (★★★) \n",
        "(**hint**: stride\\_tricks.as\\_strided)"
      ]
    },
    {
      "cell_type": "code",
      "metadata": {
        "id": "CMB-zFH0V6L7",
        "colab": {
          "base_uri": "https://localhost:8080/"
        },
        "outputId": "cb58e921-b70b-4216-dc17-49d9321f1903"
      },
      "source": [
        "A = np.arange(1,15,dtype=np.uint32)\n",
        "B = stride_tricks.as_strided(A,(11,4),(4,4))\n",
        "print (B)"
      ],
      "execution_count": null,
      "outputs": [
        {
          "output_type": "stream",
          "name": "stdout",
          "text": [
            "[[ 1  2  3  4]\n",
            " [ 2  3  4  5]\n",
            " [ 3  4  5  6]\n",
            " [ 4  5  6  7]\n",
            " [ 5  6  7  8]\n",
            " [ 6  7  8  9]\n",
            " [ 7  8  9 10]\n",
            " [ 8  9 10 11]\n",
            " [ 9 10 11 12]\n",
            " [10 11 12 13]\n",
            " [11 12 13 14]]\n"
          ]
        }
      ]
    },
    {
      "cell_type": "markdown",
      "metadata": {
        "id": "zyn43XpfV6L7"
      },
      "source": [
        "#### 82. Compute a matrix rank (★★★) \n",
        "(**hint**: np.linalg.svd) (suggestion: np.linalg.svd)"
      ]
    },
    {
      "cell_type": "code",
      "metadata": {
        "id": "__KKRYwVV6L7",
        "colab": {
          "base_uri": "https://localhost:8080/"
        },
        "outputId": "d3a8de4c-0a50-4291-8058-381e37a2bb5c"
      },
      "source": [
        "A = np.random.uniform(0,1,(10,10))\n",
        "U, S, V = np.linalg.svd(A)\n",
        "rank = np.sum(S> 1e-10)\n",
        "print (rank)"
      ],
      "execution_count": null,
      "outputs": [
        {
          "output_type": "stream",
          "name": "stdout",
          "text": [
            "10\n"
          ]
        }
      ]
    },
    {
      "cell_type": "markdown",
      "metadata": {
        "id": "DqTUaFu8V6L7"
      },
      "source": [
        "#### 83. How to find the most frequent value in an array? \n",
        "(**hint**: np.bincount, argmax)"
      ]
    },
    {
      "cell_type": "code",
      "metadata": {
        "id": "EWFN2mOSV6L7",
        "colab": {
          "base_uri": "https://localhost:8080/"
        },
        "outputId": "ba32ca60-d649-4cdf-b09b-197c319aab4e"
      },
      "source": [
        "A = np.random.randint(0,10,50)\n",
        "print (np.bincount(A).argmax())"
      ],
      "execution_count": null,
      "outputs": [
        {
          "output_type": "stream",
          "name": "stdout",
          "text": [
            "8\n"
          ]
        }
      ]
    },
    {
      "cell_type": "markdown",
      "metadata": {
        "id": "kyyWg-tIV6L7"
      },
      "source": [
        "#### 84. Extract all the contiguous 3x3 blocks from a random 10x10 matrix (★★★) \n",
        "(**hint**: stride\\_tricks.as\\_strided)"
      ]
    },
    {
      "cell_type": "code",
      "metadata": {
        "id": "ushnE6QGV6L7",
        "colab": {
          "base_uri": "https://localhost:8080/"
        },
        "outputId": "c3bdb4bf-9afc-4d00-e8f3-cdce4b0441d5"
      },
      "source": [
        "Z = np.random.randint(0,5,(10,10))\n",
        "n = 3\n",
        "i = 1 + (Z.shape[0]-3)\n",
        "j = 1 + (Z.shape[1]-3)\n",
        "C = stride_tricks.as_strided(Z, shape=(i, j, n, n), strides=Z.strides + Z.strides)\n",
        "print (C)"
      ],
      "execution_count": null,
      "outputs": [
        {
          "output_type": "stream",
          "name": "stdout",
          "text": [
            "[[[[3 2 4]\n",
            "   [2 0 4]\n",
            "   [3 3 3]]\n",
            "\n",
            "  [[2 4 0]\n",
            "   [0 4 3]\n",
            "   [3 3 3]]\n",
            "\n",
            "  [[4 0 1]\n",
            "   [4 3 3]\n",
            "   [3 3 4]]\n",
            "\n",
            "  [[0 1 3]\n",
            "   [3 3 4]\n",
            "   [3 4 2]]\n",
            "\n",
            "  [[1 3 0]\n",
            "   [3 4 4]\n",
            "   [4 2 1]]\n",
            "\n",
            "  [[3 0 3]\n",
            "   [4 4 2]\n",
            "   [2 1 1]]\n",
            "\n",
            "  [[0 3 0]\n",
            "   [4 2 1]\n",
            "   [1 1 3]]\n",
            "\n",
            "  [[3 0 3]\n",
            "   [2 1 4]\n",
            "   [1 3 0]]]\n",
            "\n",
            "\n",
            " [[[2 0 4]\n",
            "   [3 3 3]\n",
            "   [0 0 4]]\n",
            "\n",
            "  [[0 4 3]\n",
            "   [3 3 3]\n",
            "   [0 4 4]]\n",
            "\n",
            "  [[4 3 3]\n",
            "   [3 3 4]\n",
            "   [4 4 1]]\n",
            "\n",
            "  [[3 3 4]\n",
            "   [3 4 2]\n",
            "   [4 1 1]]\n",
            "\n",
            "  [[3 4 4]\n",
            "   [4 2 1]\n",
            "   [1 1 0]]\n",
            "\n",
            "  [[4 4 2]\n",
            "   [2 1 1]\n",
            "   [1 0 0]]\n",
            "\n",
            "  [[4 2 1]\n",
            "   [1 1 3]\n",
            "   [0 0 3]]\n",
            "\n",
            "  [[2 1 4]\n",
            "   [1 3 0]\n",
            "   [0 3 4]]]\n",
            "\n",
            "\n",
            " [[[3 3 3]\n",
            "   [0 0 4]\n",
            "   [3 4 4]]\n",
            "\n",
            "  [[3 3 3]\n",
            "   [0 4 4]\n",
            "   [4 4 3]]\n",
            "\n",
            "  [[3 3 4]\n",
            "   [4 4 1]\n",
            "   [4 3 1]]\n",
            "\n",
            "  [[3 4 2]\n",
            "   [4 1 1]\n",
            "   [3 1 1]]\n",
            "\n",
            "  [[4 2 1]\n",
            "   [1 1 0]\n",
            "   [1 1 4]]\n",
            "\n",
            "  [[2 1 1]\n",
            "   [1 0 0]\n",
            "   [1 4 1]]\n",
            "\n",
            "  [[1 1 3]\n",
            "   [0 0 3]\n",
            "   [4 1 1]]\n",
            "\n",
            "  [[1 3 0]\n",
            "   [0 3 4]\n",
            "   [1 1 0]]]\n",
            "\n",
            "\n",
            " [[[0 0 4]\n",
            "   [3 4 4]\n",
            "   [2 0 3]]\n",
            "\n",
            "  [[0 4 4]\n",
            "   [4 4 3]\n",
            "   [0 3 4]]\n",
            "\n",
            "  [[4 4 1]\n",
            "   [4 3 1]\n",
            "   [3 4 2]]\n",
            "\n",
            "  [[4 1 1]\n",
            "   [3 1 1]\n",
            "   [4 2 4]]\n",
            "\n",
            "  [[1 1 0]\n",
            "   [1 1 4]\n",
            "   [2 4 2]]\n",
            "\n",
            "  [[1 0 0]\n",
            "   [1 4 1]\n",
            "   [4 2 2]]\n",
            "\n",
            "  [[0 0 3]\n",
            "   [4 1 1]\n",
            "   [2 2 2]]\n",
            "\n",
            "  [[0 3 4]\n",
            "   [1 1 0]\n",
            "   [2 2 3]]]\n",
            "\n",
            "\n",
            " [[[3 4 4]\n",
            "   [2 0 3]\n",
            "   [4 4 3]]\n",
            "\n",
            "  [[4 4 3]\n",
            "   [0 3 4]\n",
            "   [4 3 1]]\n",
            "\n",
            "  [[4 3 1]\n",
            "   [3 4 2]\n",
            "   [3 1 0]]\n",
            "\n",
            "  [[3 1 1]\n",
            "   [4 2 4]\n",
            "   [1 0 0]]\n",
            "\n",
            "  [[1 1 4]\n",
            "   [2 4 2]\n",
            "   [0 0 0]]\n",
            "\n",
            "  [[1 4 1]\n",
            "   [4 2 2]\n",
            "   [0 0 4]]\n",
            "\n",
            "  [[4 1 1]\n",
            "   [2 2 2]\n",
            "   [0 4 3]]\n",
            "\n",
            "  [[1 1 0]\n",
            "   [2 2 3]\n",
            "   [4 3 2]]]\n",
            "\n",
            "\n",
            " [[[2 0 3]\n",
            "   [4 4 3]\n",
            "   [3 1 4]]\n",
            "\n",
            "  [[0 3 4]\n",
            "   [4 3 1]\n",
            "   [1 4 2]]\n",
            "\n",
            "  [[3 4 2]\n",
            "   [3 1 0]\n",
            "   [4 2 3]]\n",
            "\n",
            "  [[4 2 4]\n",
            "   [1 0 0]\n",
            "   [2 3 3]]\n",
            "\n",
            "  [[2 4 2]\n",
            "   [0 0 0]\n",
            "   [3 3 2]]\n",
            "\n",
            "  [[4 2 2]\n",
            "   [0 0 4]\n",
            "   [3 2 2]]\n",
            "\n",
            "  [[2 2 2]\n",
            "   [0 4 3]\n",
            "   [2 2 4]]\n",
            "\n",
            "  [[2 2 3]\n",
            "   [4 3 2]\n",
            "   [2 4 1]]]\n",
            "\n",
            "\n",
            " [[[4 4 3]\n",
            "   [3 1 4]\n",
            "   [1 2 2]]\n",
            "\n",
            "  [[4 3 1]\n",
            "   [1 4 2]\n",
            "   [2 2 2]]\n",
            "\n",
            "  [[3 1 0]\n",
            "   [4 2 3]\n",
            "   [2 2 4]]\n",
            "\n",
            "  [[1 0 0]\n",
            "   [2 3 3]\n",
            "   [2 4 1]]\n",
            "\n",
            "  [[0 0 0]\n",
            "   [3 3 2]\n",
            "   [4 1 0]]\n",
            "\n",
            "  [[0 0 4]\n",
            "   [3 2 2]\n",
            "   [1 0 0]]\n",
            "\n",
            "  [[0 4 3]\n",
            "   [2 2 4]\n",
            "   [0 0 3]]\n",
            "\n",
            "  [[4 3 2]\n",
            "   [2 4 1]\n",
            "   [0 3 2]]]\n",
            "\n",
            "\n",
            " [[[3 1 4]\n",
            "   [1 2 2]\n",
            "   [1 4 4]]\n",
            "\n",
            "  [[1 4 2]\n",
            "   [2 2 2]\n",
            "   [4 4 2]]\n",
            "\n",
            "  [[4 2 3]\n",
            "   [2 2 4]\n",
            "   [4 2 0]]\n",
            "\n",
            "  [[2 3 3]\n",
            "   [2 4 1]\n",
            "   [2 0 1]]\n",
            "\n",
            "  [[3 3 2]\n",
            "   [4 1 0]\n",
            "   [0 1 4]]\n",
            "\n",
            "  [[3 2 2]\n",
            "   [1 0 0]\n",
            "   [1 4 3]]\n",
            "\n",
            "  [[2 2 4]\n",
            "   [0 0 3]\n",
            "   [4 3 0]]\n",
            "\n",
            "  [[2 4 1]\n",
            "   [0 3 2]\n",
            "   [3 0 2]]]]\n"
          ]
        }
      ]
    },
    {
      "cell_type": "markdown",
      "metadata": {
        "id": "lti0hmNcV6L7"
      },
      "source": [
        "#### 85. Create a 2D array subclass such that Z\\[i,j\\] == Z\\[j,i\\] (★★★) \n",
        "(**hint**: class method)"
      ]
    },
    {
      "cell_type": "code",
      "metadata": {
        "id": "yNL0hd07V6L7"
      },
      "source": [
        ""
      ],
      "execution_count": null,
      "outputs": []
    },
    {
      "cell_type": "markdown",
      "metadata": {
        "id": "BuV4nYNXV6L7"
      },
      "source": [
        "#### 86. Consider a set of p matrices wich shape (n,n) and a set of p vectors with shape (n,1). How to compute the sum of of the p matrix products at once? (result has shape (n,1)) (★★★) \n",
        "(**hint**: np.tensordot)"
      ]
    },
    {
      "cell_type": "code",
      "metadata": {
        "id": "xHQkA7QmV6L7",
        "colab": {
          "base_uri": "https://localhost:8080/"
        },
        "outputId": "f0873c98-36cb-4445-c2a3-2b5b79734842"
      },
      "source": [
        "p, n = 10, 20\n",
        "M = np.ones((p,n,n))\n",
        "V = np.ones((p,n,1))\n",
        "S = np.tensordot(M, V, axes=[[0, 2], [0, 1]])\n",
        "print (S)"
      ],
      "execution_count": null,
      "outputs": [
        {
          "output_type": "stream",
          "name": "stdout",
          "text": [
            "[[200.]\n",
            " [200.]\n",
            " [200.]\n",
            " [200.]\n",
            " [200.]\n",
            " [200.]\n",
            " [200.]\n",
            " [200.]\n",
            " [200.]\n",
            " [200.]\n",
            " [200.]\n",
            " [200.]\n",
            " [200.]\n",
            " [200.]\n",
            " [200.]\n",
            " [200.]\n",
            " [200.]\n",
            " [200.]\n",
            " [200.]\n",
            " [200.]]\n"
          ]
        }
      ]
    },
    {
      "cell_type": "markdown",
      "metadata": {
        "id": "R25kHTdXV6L8"
      },
      "source": [
        "#### 87. Consider a 16x16 array, how to get the block-sum (block size is 4x4)? (★★★) \n",
        "(**hint**: np.add.reduceat)"
      ]
    },
    {
      "cell_type": "code",
      "metadata": {
        "id": "_Rgq5tlGV6L8",
        "colab": {
          "base_uri": "https://localhost:8080/"
        },
        "outputId": "9da99be0-1cf7-49ce-c9ca-64984b3f6b2d"
      },
      "source": [
        "Z = np.ones((16,16))\n",
        "k = 4\n",
        "S = np.add.reduceat(np.add.reduceat(Z, np.arange(0, Z.shape[0], k), axis=0),\n",
        "np.arange(0, Z.shape[1], k), axis=1)\n",
        "print (S)"
      ],
      "execution_count": null,
      "outputs": [
        {
          "output_type": "stream",
          "name": "stdout",
          "text": [
            "[[16. 16. 16. 16.]\n",
            " [16. 16. 16. 16.]\n",
            " [16. 16. 16. 16.]\n",
            " [16. 16. 16. 16.]]\n"
          ]
        }
      ]
    },
    {
      "cell_type": "markdown",
      "metadata": {
        "id": "O1tvNzTZV6L8"
      },
      "source": [
        "#### 88. How to implement the Game of Life using numpy arrays? (★★★)"
      ]
    },
    {
      "cell_type": "code",
      "metadata": {
        "id": "PX3TXpSUV6L8"
      },
      "source": [
        ""
      ],
      "execution_count": null,
      "outputs": []
    },
    {
      "cell_type": "markdown",
      "metadata": {
        "id": "8W0B_POhV6L8"
      },
      "source": [
        "#### 89. How to get the n largest values of an array (★★★) \n",
        "(**hint**: np.argsort | np.argpartition)"
      ]
    },
    {
      "cell_type": "code",
      "metadata": {
        "id": "k7tHrJ-0V6L8",
        "colab": {
          "base_uri": "https://localhost:8080/"
        },
        "outputId": "4ef88ceb-dd9e-4db2-f7fe-763e17643d94"
      },
      "source": [
        "#1\n",
        "A = np.arange(10000)\n",
        "np.random.shuffle(A)\n",
        "n = 5\n",
        "print (A[np.argsort(A)[-n:]])\n",
        "\n",
        "#2\n",
        "print (Z[np.argpartition(-Z,n)[:n]])"
      ],
      "execution_count": null,
      "outputs": [
        {
          "output_type": "stream",
          "name": "stdout",
          "text": [
            "[9995 9996 9997 9998 9999]\n",
            "[[[1. 1. 1. ... 1. 1. 1.]\n",
            "  [1. 1. 1. ... 1. 1. 1.]\n",
            "  [1. 1. 1. ... 1. 1. 1.]\n",
            "  ...\n",
            "  [1. 1. 1. ... 1. 1. 1.]\n",
            "  [1. 1. 1. ... 1. 1. 1.]\n",
            "  [1. 1. 1. ... 1. 1. 1.]]\n",
            "\n",
            " [[1. 1. 1. ... 1. 1. 1.]\n",
            "  [1. 1. 1. ... 1. 1. 1.]\n",
            "  [1. 1. 1. ... 1. 1. 1.]\n",
            "  ...\n",
            "  [1. 1. 1. ... 1. 1. 1.]\n",
            "  [1. 1. 1. ... 1. 1. 1.]\n",
            "  [1. 1. 1. ... 1. 1. 1.]]\n",
            "\n",
            " [[1. 1. 1. ... 1. 1. 1.]\n",
            "  [1. 1. 1. ... 1. 1. 1.]\n",
            "  [1. 1. 1. ... 1. 1. 1.]\n",
            "  ...\n",
            "  [1. 1. 1. ... 1. 1. 1.]\n",
            "  [1. 1. 1. ... 1. 1. 1.]\n",
            "  [1. 1. 1. ... 1. 1. 1.]]\n",
            "\n",
            " [[1. 1. 1. ... 1. 1. 1.]\n",
            "  [1. 1. 1. ... 1. 1. 1.]\n",
            "  [1. 1. 1. ... 1. 1. 1.]\n",
            "  ...\n",
            "  [1. 1. 1. ... 1. 1. 1.]\n",
            "  [1. 1. 1. ... 1. 1. 1.]\n",
            "  [1. 1. 1. ... 1. 1. 1.]]\n",
            "\n",
            " [[1. 1. 1. ... 1. 1. 1.]\n",
            "  [1. 1. 1. ... 1. 1. 1.]\n",
            "  [1. 1. 1. ... 1. 1. 1.]\n",
            "  ...\n",
            "  [1. 1. 1. ... 1. 1. 1.]\n",
            "  [1. 1. 1. ... 1. 1. 1.]\n",
            "  [1. 1. 1. ... 1. 1. 1.]]]\n"
          ]
        }
      ]
    },
    {
      "cell_type": "markdown",
      "metadata": {
        "id": "jp17hJJHV6L8"
      },
      "source": [
        "#### 90. Given an arbitrary number of vectors, build the cartesian product (every combinations of every item) (★★★) \n",
        "(**hint**: np.indices)"
      ]
    },
    {
      "cell_type": "code",
      "metadata": {
        "scrolled": true,
        "id": "24dA_skaV6L8",
        "colab": {
          "base_uri": "https://localhost:8080/"
        },
        "outputId": "2ffb286d-d5db-4562-f2f5-e505d1088887"
      },
      "source": [
        "def cartesian(arrays):\n",
        "    arrays = [np.asarray(a) for a in arrays]\n",
        "    shape = (len(x) for x in arrays)\n",
        "\n",
        "    ix = np.indices(shape, dtype=int)\n",
        "    ix = ix.reshape(len(arrays), -1).T\n",
        "\n",
        "    for n, arr in enumerate(arrays):\n",
        "        ix[:, n] = arrays[n][ix[:, n]]\n",
        "\n",
        "    return ix\n",
        "\n",
        "print (cartesian(([1, 2, 3], [4, 5], [6, 7])))"
      ],
      "execution_count": null,
      "outputs": [
        {
          "output_type": "stream",
          "name": "stdout",
          "text": [
            "[[1 4 6]\n",
            " [1 4 7]\n",
            " [1 5 6]\n",
            " [1 5 7]\n",
            " [2 4 6]\n",
            " [2 4 7]\n",
            " [2 5 6]\n",
            " [2 5 7]\n",
            " [3 4 6]\n",
            " [3 4 7]\n",
            " [3 5 6]\n",
            " [3 5 7]]\n"
          ]
        }
      ]
    },
    {
      "cell_type": "markdown",
      "metadata": {
        "id": "8R_LqzgBV6L8"
      },
      "source": [
        "#### 91. How to create a record array from a regular array? (★★★) \n",
        "(**hint**: np.core.records.fromarrays)"
      ]
    },
    {
      "cell_type": "code",
      "metadata": {
        "id": "tTAxlIfLV6L8"
      },
      "source": [
        ""
      ],
      "execution_count": null,
      "outputs": []
    },
    {
      "cell_type": "markdown",
      "metadata": {
        "id": "fEvWSYKiV6L8"
      },
      "source": [
        "#### 92. Consider a large vector Z, compute Z to the power of 3 using 3 different methods (★★★) \n",
        "(**hint**: np.power, \\*, np.einsum)"
      ]
    },
    {
      "cell_type": "code",
      "metadata": {
        "id": "ClVf8HQYV6L8",
        "colab": {
          "base_uri": "https://localhost:8080/"
        },
        "outputId": "1db78762-532a-4322-9c36-3bfb66879e6b"
      },
      "source": [
        "x = np.random.rand()\n",
        "np.power(x,3)"
      ],
      "execution_count": null,
      "outputs": [
        {
          "output_type": "execute_result",
          "data": {
            "text/plain": [
              "0.4312983375833107"
            ]
          },
          "metadata": {},
          "execution_count": 153
        }
      ]
    },
    {
      "cell_type": "markdown",
      "metadata": {
        "id": "BzcUfuA_V6L8"
      },
      "source": [
        "#### 93. Consider two arrays A and B of shape (8,3) and (2,2). How to find rows of A that contain elements of each row of B regardless of the order of the elements in B? (★★★) \n",
        "(**hint**: np.where)"
      ]
    },
    {
      "cell_type": "code",
      "metadata": {
        "id": "djbWVg8vV6L9",
        "colab": {
          "base_uri": "https://localhost:8080/"
        },
        "outputId": "c6db45b2-fbbe-4d45-b314-8f49e310f085"
      },
      "source": [
        "A = np.random.randint(0,5,(8,3))\n",
        "B = np.random.randint(0,5,(2,2))\n",
        "\n",
        "C = (A[..., np.newaxis, np.newaxis] == B)\n",
        "rows = np.where(C.any((3,1)).all(1))[0]\n",
        "print (rows)"
      ],
      "execution_count": null,
      "outputs": [
        {
          "output_type": "stream",
          "name": "stdout",
          "text": [
            "[4]\n"
          ]
        }
      ]
    },
    {
      "cell_type": "markdown",
      "metadata": {
        "id": "-kSqk08SV6L9"
      },
      "source": [
        "#### 94. Considering a 10x3 matrix, extract rows with unequal values (e.g. \\[2,2,3\\]) (★★★)"
      ]
    },
    {
      "cell_type": "code",
      "metadata": {
        "id": "7Zx_eL6sV6L9",
        "colab": {
          "base_uri": "https://localhost:8080/"
        },
        "outputId": "03b8404c-5efc-4950-9d59-9c6758707694"
      },
      "source": [
        "A = np.random.randint(0,5,(10,3))\n",
        "print (Z)\n",
        "B = np.all(A[:,1:] == A[:,:-1], axis=1)\n",
        "C = A[~B]\n",
        "print (C)"
      ],
      "execution_count": null,
      "outputs": [
        {
          "output_type": "stream",
          "name": "stdout",
          "text": [
            "[['Hello' '2.5' '3']\n",
            " ['World' '3.6' '2']]\n",
            "[[3 1 1]\n",
            " [2 2 3]\n",
            " [1 2 0]\n",
            " [1 4 2]\n",
            " [3 4 4]\n",
            " [0 4 4]\n",
            " [4 3 2]\n",
            " [1 1 0]\n",
            " [2 0 0]\n",
            " [1 1 0]]\n"
          ]
        }
      ]
    },
    {
      "cell_type": "markdown",
      "metadata": {
        "id": "dGHeaALEV6L9"
      },
      "source": [
        "#### 95. Convert a vector of ints into a matrix binary representation (★★★) \n",
        "(**hint**: np.unpackbits)"
      ]
    },
    {
      "cell_type": "code",
      "metadata": {
        "id": "U0lcSNmeV6L9",
        "colab": {
          "base_uri": "https://localhost:8080/"
        },
        "outputId": "b27a9ed3-54b3-4427-8d2c-4cc2785dc557"
      },
      "source": [
        "A = np.array([0, 1, 2, 3, 15, 16, 32, 64, 128])\n",
        "B = ((A.reshape(-1,1) & (2**np.arange(8))) != 0).astype(int)\n",
        "print(B[:,::-1])"
      ],
      "execution_count": null,
      "outputs": [
        {
          "output_type": "stream",
          "name": "stdout",
          "text": [
            "[[0 0 0 0 0 0 0 0]\n",
            " [0 0 0 0 0 0 0 1]\n",
            " [0 0 0 0 0 0 1 0]\n",
            " [0 0 0 0 0 0 1 1]\n",
            " [0 0 0 0 1 1 1 1]\n",
            " [0 0 0 1 0 0 0 0]\n",
            " [0 0 1 0 0 0 0 0]\n",
            " [0 1 0 0 0 0 0 0]\n",
            " [1 0 0 0 0 0 0 0]]\n"
          ]
        }
      ]
    },
    {
      "cell_type": "markdown",
      "metadata": {
        "id": "aZVVxyycV6L9"
      },
      "source": [
        "#### 96. Given a two dimensional array, how to extract unique rows? (★★★) \n",
        "(**hint**: np.ascontiguousarray)"
      ]
    },
    {
      "cell_type": "code",
      "metadata": {
        "id": "vfm7OxuIV6L9"
      },
      "source": [
        ""
      ],
      "execution_count": null,
      "outputs": []
    },
    {
      "cell_type": "markdown",
      "metadata": {
        "id": "tZ2i1_9jV6L9"
      },
      "source": [
        "#### 97. Considering 2 vectors A & B, write the einsum equivalent of inner, outer, sum, and mul function (★★★) \n",
        "(**hint**: np.einsum)"
      ]
    },
    {
      "cell_type": "code",
      "metadata": {
        "id": "h1oPRDE1V6L9",
        "colab": {
          "base_uri": "https://localhost:8080/"
        },
        "outputId": "81ce4dd4-8f9f-4f2b-e685-c2fe9fc6edea"
      },
      "source": [
        "A = np.random.uniform(0,1,10)\n",
        "B = np.random.uniform(0,1,10)\n",
        "print ('sum')\n",
        "print (np.einsum('i->', A))\n",
        "print ('A * B')\n",
        "print (np.einsum('i,i->i', A, B))\n",
        "print ('inner')\n",
        "print (np.einsum('i,i', A, B))\n",
        "print ('outer')\n",
        "print (np.einsum('i,j->ij', A, B))"
      ],
      "execution_count": null,
      "outputs": [
        {
          "output_type": "stream",
          "name": "stdout",
          "text": [
            "sum\n",
            "3.908728660161929\n",
            "A * B\n",
            "[0.06045093 0.17102648 0.00555783 0.60190889 0.11165332 0.18344581\n",
            " 0.39718453 0.21508745 0.00128756 0.32740272]\n",
            "inner\n",
            "2.0750055158196217\n",
            "outer\n",
            "[[6.04509287e-02 3.45908194e-02 4.79887925e-02 1.50252870e-01\n",
            "  4.17508091e-02 4.36239906e-02 1.48870385e-01 1.23838369e-01\n",
            "  2.39546280e-03 8.35869094e-02]\n",
            " [2.98885947e-01 1.71026484e-01 2.37269733e-01 7.42891337e-01\n",
            "  2.06427434e-01 2.15688957e-01 7.36055956e-01 6.12290813e-01\n",
            "  1.18438241e-02 4.13276572e-01]\n",
            " [7.00113618e-03 4.00614254e-03 5.55783143e-03 1.74015656e-02\n",
            "  4.83537816e-03 5.05232104e-03 1.72414529e-02 1.43423651e-02\n",
            "  2.77430995e-04 9.68063433e-03]\n",
            " [2.42164767e-01 1.38569877e-01 1.92241790e-01 6.01908887e-01\n",
            "  1.67252600e-01 1.74756513e-01 5.96370693e-01 4.96093121e-01\n",
            "  9.59615847e-03 3.34846873e-01]\n",
            " [1.61662658e-01 9.25055068e-02 1.28335427e-01 4.01818116e-01\n",
            "  1.11653318e-01 1.16662728e-01 3.98120966e-01 3.31178368e-01\n",
            "  6.40613620e-03 2.23534728e-01]\n",
            " [2.54205759e-01 1.45459891e-01 2.01800496e-01 6.31837187e-01\n",
            "  1.75568785e-01 1.83445811e-01 6.26023621e-01 5.20760017e-01\n",
            "  1.00733016e-02 3.51496233e-01]\n",
            " [1.61282405e-01 9.22879210e-02 1.28033564e-01 4.00872984e-01\n",
            "  1.11390694e-01 1.16388321e-01 3.97184531e-01 3.30399391e-01\n",
            "  6.39106808e-03 2.23008944e-01]\n",
            " [1.04993598e-01 6.00787229e-02 8.33488601e-02 2.60965212e-01\n",
            "  7.25144803e-02 7.57678971e-02 2.58564058e-01 2.15087448e-01\n",
            "  4.16053590e-03 1.45177098e-01]\n",
            " [3.24923449e-02 1.85925487e-02 2.57939527e-02 8.07608447e-02\n",
            "  2.24410397e-02 2.34478738e-02 8.00177600e-02 6.65630635e-02\n",
            "  1.28756009e-03 4.49279233e-02]\n",
            " [2.36781075e-01 1.35489257e-01 1.87967962e-01 5.88527534e-01\n",
            "  1.63534319e-01 1.70871409e-01 5.83112462e-01 4.85064213e-01\n",
            "  9.38282122e-03 3.27402716e-01]]\n"
          ]
        }
      ]
    },
    {
      "cell_type": "markdown",
      "metadata": {
        "id": "UMZEMjL2V6L9"
      },
      "source": [
        "#### 98. Considering a path described by two vectors (X,Y), how to sample it using equidistant samples (★★★)? \n",
        "(**hint**: np.cumsum, np.interp)"
      ]
    },
    {
      "cell_type": "code",
      "metadata": {
        "collapsed": true,
        "id": "w0yLTyMvV6L9"
      },
      "source": [
        "phi = np.arange(0, 10*np.pi, 0.1)\n",
        "a = 1\n",
        "x = a*phi*np.cos(phi)\n",
        "y = a*phi*np.sin(phi)\n",
        "dr = (np.diff(x)**2 + np.diff(y)**2)**.5\n",
        "r = np.zeros_like(x)\n",
        "r[1:] = np.cumsum(dr)\n",
        "r_int = np.linspace(0, r.max(), 200)\n",
        "x_int = np.interp(r_int, r, x)\n",
        "y_int = np.interp(r_int, r, y)"
      ],
      "execution_count": null,
      "outputs": []
    },
    {
      "cell_type": "markdown",
      "metadata": {
        "id": "HRuItC1FV6L9"
      },
      "source": [
        "#### 99. Given an integer n and a 2D array X, select from X the rows which can be interpreted as draws from a multinomial distribution with n degrees, i.e., the rows which only contain integers and which sum to n. (★★★) \n",
        "(**hint**: np.logical\\_and.reduce, np.mod)"
      ]
    },
    {
      "cell_type": "code",
      "metadata": {
        "id": "5wXQYHbdV6L9",
        "colab": {
          "base_uri": "https://localhost:8080/"
        },
        "outputId": "13fce5b0-6816-4a5d-d759-f9683590ed95"
      },
      "source": [
        "X = np.asarray([[1.0, 0.0, 3.0, 8.0],\n",
        "                [2.0, 0.0, 1.0, 1.0],\n",
        "                [1.5, 2.5, 1.0, 0.0]])\n",
        "n = 4\n",
        "M = np.logical_and.reduce(np.mod(X, 1) == 0, axis=-1)\n",
        "M &= (X.sum(axis=-1) == n)\n",
        "print (X[M])"
      ],
      "execution_count": null,
      "outputs": [
        {
          "output_type": "stream",
          "name": "stdout",
          "text": [
            "[[2. 0. 1. 1.]]\n"
          ]
        }
      ]
    },
    {
      "cell_type": "markdown",
      "metadata": {
        "id": "S6v-a6tkV6L-"
      },
      "source": [
        "#### 100. Compute bootstrapped 95% confidence intervals for the mean of a 1D array X (i.e., resample the elements of an array with replacement N times, compute the mean of each sample, and then compute percentiles over the means). (★★★) \n",
        "(**hint**: np.percentile)"
      ]
    },
    {
      "cell_type": "code",
      "metadata": {
        "id": "5066dyG5V6L-",
        "colab": {
          "base_uri": "https://localhost:8080/"
        },
        "outputId": "7a22b9cb-33c9-4b30-b845-80f5729d3d50"
      },
      "source": [
        "X = np.random.randn(100) # random 1D array\n",
        "N = 1000 # number of bootstrap samples\n",
        "idx = np.random.randint(0, X.size, (N, X.size))\n",
        "means = X[idx].mean(axis=1)\n",
        "confint = np.percentile(means, [2.5, 97.5])\n",
        "print (confint)"
      ],
      "execution_count": null,
      "outputs": [
        {
          "output_type": "stream",
          "name": "stdout",
          "text": [
            "[-0.21042484  0.19387699]\n"
          ]
        }
      ]
    }
  ]
}