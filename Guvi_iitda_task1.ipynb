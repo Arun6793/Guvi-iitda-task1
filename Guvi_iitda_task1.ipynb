{
  "nbformat": 4,
  "nbformat_minor": 0,
  "metadata": {
    "colab": {
      "name": "Guvi-iitda-task1.ipynb",
      "provenance": [],
      "collapsed_sections": [],
      "authorship_tag": "ABX9TyNt2vaSQ9CXG+wD0BucWaUD",
      "include_colab_link": true
    },
    "kernelspec": {
      "name": "python3",
      "display_name": "Python 3"
    },
    "language_info": {
      "name": "python"
    }
  },
  "cells": [
    {
      "cell_type": "markdown",
      "metadata": {
        "id": "view-in-github",
        "colab_type": "text"
      },
      "source": [
        "<a href=\"https://colab.research.google.com/github/Arun6793/Guvi-iitda-task1/blob/main/Guvi_iitda_task1.ipynb\" target=\"_parent\"><img src=\"https://colab.research.google.com/assets/colab-badge.svg\" alt=\"Open In Colab\"/></a>"
      ]
    },
    {
      "cell_type": "markdown",
      "metadata": {
        "id": "64W9d7Wmpe81"
      },
      "source": [
        "# **Guvi-iitda-task1.ipynb**"
      ]
    },
    {
      "cell_type": "code",
      "metadata": {
        "id": "BVmnAr0ppSbL"
      },
      "source": [
        "import mysql.connector\n",
        "\n",
        "mydb = mysql.connector.connect(\n",
        "  host=\"localhost\",\n",
        "  user=\"root\",\n",
        "  password=\"root\",\n",
        "  port=\"3307\",\n",
        "  database=\"arunpractice\")\n",
        "\n",
        "def insert (Name,Department,TamilMark,EnglishMark,MathsMark,ScienceMark,ComputerMark,Total,Average,Grade):\n",
        "    res=mydb.cursor()\n",
        "    sql=\"insert into task1 (Name,Department,TamilMark,EnglishMark,MathsMark,ScienceMark,ComputerMark,Total,Average,Grade) values (%s,%s,%s,%s,%s,%s,%s,%s,%s,%s)\"\n",
        "    task1=(Name,Department,TamilMark,EnglishMark,MathsMark,ScienceMark,ComputerMark,Total,Average,Grade)\n",
        "    res.execute(sql,task1)\n",
        "    mydb.commit()\n",
        "    print(\"Data Inserted\")\n",
        "    \n",
        "print(\"1.Add New Student\")\n",
        "print(\"2.Get Student\")\n",
        "print(\"3.Get all Student\")\n",
        "print(\"4.Delete a Student\")\n",
        "print(\"5.Exit\")\n",
        "n =int(input(\"Please Enter the below option : \"))\n",
        "\n",
        "if n==1:\n",
        "        Name = input(\"Name : \")\n",
        "        Department = input(\"Department : \")\n",
        "        TamilMark = input(\"TamilMark : \")\n",
        "        EnglishMark = input(\"EnglishMark : \")\n",
        "        MathsMark = input(\"MathsMark : \")\n",
        "        ScienceMark = input(\"ScienceMark : \")\n",
        "        ComputerMark = input(\"ComputerMark : \")\n",
        "else:\n",
        "        print(\"Invalid\")\n",
        "\n",
        "c=int(TamilMark) + int(EnglishMark) + int(MathsMark) +int(ScienceMark) + int(ComputerMark)\n",
        "d = c / 5\n",
        "Total = int(c)\n",
        "print(\"Total :\",c)\n",
        "Average = int(d)\n",
        "print(\"Average :\",d)\n",
        "if Average >= 90:\n",
        "        Grade = \"A\"\n",
        "elif Average <= 90:\n",
        "        Grade = \"B\"\n",
        "else:\n",
        "        Grade = \"F\"\n",
        "print(\"Grade: \",Grade)\n",
        "insert(Name,Department,TamilMark,EnglishMark,MathsMark,ScienceMark,ComputerMark,Total,Average,Grade)"
      ],
      "execution_count": null,
      "outputs": []
    }
  ]
}